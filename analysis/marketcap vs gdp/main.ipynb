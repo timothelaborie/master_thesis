{
 "cells": [
  {
   "cell_type": "code",
   "execution_count": null,
   "metadata": {},
   "outputs": [],
   "source": [
    "import matplotlib.pyplot as plt\n",
    "import numpy as np\n",
    "import pandas as pd\n",
    "from pandas import Timestamp\n",
    "import statsmodels.api as sm\n",
    "from statsmodels.tsa.stattools import adfuller"
   ]
  },
  {
   "cell_type": "code",
   "execution_count": null,
   "metadata": {},
   "outputs": [],
   "source": [
    "# this csv only goes back to 2014\n",
    "# df = pd.read_csv('../pricehistory/price_full.csv')\n",
    "# btcmarketcap = df[['Start','Market Cap']]\n",
    "# btcmarketcap.set_index('Start', inplace=True)\n",
    "# btcmarketcap = btcmarketcap.iloc[::-1]\n",
    "# btcmarketcap = btcmarketcap[btcmarketcap['Market Cap'] != 0]\n",
    "# btcmarketcap[\"day\"] = btcmarketcap.index\n",
    "# btcmarketcap.reset_index(drop=True, inplace=True)\n",
    "# btcmarketcap"
   ]
  },
  {
   "cell_type": "code",
   "execution_count": null,
   "metadata": {},
   "outputs": [],
   "source": [
    "df = pd.read_csv('bitcoin@public.csv',delimiter=';')\n",
    "btcmarketcap = df[[\"CapMrktCurUSD\",\"Date\"]].dropna()\n",
    "btcmarketcap.rename(columns={\"CapMrktCurUSD\":\"Market Cap\",\"Date\":\"day\"},inplace=True)\n",
    "btcmarketcap[\"day\"] = pd.to_datetime(btcmarketcap[\"day\"])\n",
    "btcmarketcap.index = btcmarketcap[\"day\"]\n",
    "btcmarketcap = btcmarketcap[[\"Market Cap\"]]\n",
    "\n",
    "# create a january first for each year and interpolate the market cap\n",
    "for year in range(2014,2022):\n",
    "    btcmarketcap.loc[pd.to_datetime(f\"{year}-01-01\")] = np.nan\n",
    "btcmarketcap.sort_index(inplace=True)\n",
    "btcmarketcap.interpolate(inplace=True)\n",
    "\n",
    "btcmarketcap[\"day\"] = btcmarketcap.index\n",
    "# looks like\n",
    "# 4730\t6.864460e+11\t2021-06-01\n",
    "# 4731\t5.947511e+11\t2021-07-15\n",
    "btcmarketcap"
   ]
  },
  {
   "cell_type": "code",
   "execution_count": null,
   "metadata": {},
   "outputs": [],
   "source": [
    "# plot btcmarketcap with log10 y axis, x axis is year and at a 30 degree angle\n",
    "fig, ax = plt.subplots()\n",
    "btcmarketcap.plot(ax=ax)\n",
    "ax.set_yscale('log')\n",
    "# since the days are not evenly spaced, we can't use np.arange\n",
    "# plt.xticks([btcmarketcap.index[0],btcmarketcap.index[-1]], [str(btcmarketcap[\"day\"].iloc[0])[:4],str(btcmarketcap[\"day\"].iloc[-1])[:4]])\n",
    "plt.xticks(rotation=30)\n",
    "plt.show()"
   ]
  },
  {
   "cell_type": "code",
   "execution_count": null,
   "metadata": {},
   "outputs": [],
   "source": [
    "# from https://data.un.org/\n",
    "gdp = pd.read_csv('gdp.csv', encoding='ISO-8859-1') # Country,Year,TypeOfValue,Value\n",
    "gdp = gdp[gdp['TypeOfValue'] == 'GDP in current prices (millions of US dollars)']\n",
    "gdp = gdp[[\"Country\",\"Year\",\"Value\"]]\n",
    "gdp = gdp.reset_index(drop=True)\n",
    "# ignore all rows that come before the first row that has \"Afghanistan\" in the country column\n",
    "gdp = gdp.iloc[gdp[gdp['Country'] == 'Afghanistan'].index[0]:]\n",
    "gdp = gdp.reset_index(drop=True)\n",
    "gdp[\"Value\"] = gdp[\"Value\"].str.replace(\",\",\"\").astype(float)*1e6\n",
    "gdp # now looks like: 0\tAfghanistan\t1995 2.757000e+09"
   ]
  },
  {
   "cell_type": "code",
   "execution_count": null,
   "metadata": {},
   "outputs": [],
   "source": [
    "# Step 1: Take the natural logarithm of every value in the 'Value' and 'Market Cap' columns\n",
    "gdp['ln_Value'] = np.log(gdp['Value'])\n",
    "btcmarketcap['ln_Market_Cap'] = np.log(btcmarketcap['Market Cap'])\n",
    "\n",
    "first_year = 2011\n",
    "\n",
    "# Step 2: Interpolate missing GDP values for each country from first_year to 2021\n",
    "# First, pivot the gdp dataframe for easier manipulation\n",
    "gdp_pivot = gdp.pivot(index='Country', columns='Year', values='ln_Value')\n",
    "\n",
    "# Interpolate linearly across the years for each country\n",
    "gdp_interpolated = gdp_pivot.reindex(columns=range(1995, 2022)).interpolate(axis=1)\n",
    "\n",
    "# Filter out the years we are interested in (first_year-2021)\n",
    "gdp_interpolated = gdp_interpolated.loc[:, first_year:2021]\n",
    "\n",
    "# Step 3: Extract Bitcoin market cap for each January 1st from first_year to 2021\n",
    "btcmarketcap['Date'] = pd.to_datetime(btcmarketcap['day'])\n",
    "btc_jan_1st = btcmarketcap[btcmarketcap['Date'].dt.month == 1]\n",
    "btc_jan_1st = btc_jan_1st[btc_jan_1st['Date'].dt.day == 1]\n",
    "btc_jan_1st = btc_jan_1st.set_index(btc_jan_1st['Date'].dt.year)\n",
    "btc_jan_1st = btc_jan_1st.loc[first_year:2021, 'ln_Market_Cap']\n",
    "\n",
    "# Step 4: Rank Bitcoin market cap among the countries' GDPs and plot the rankings\n",
    "rankings = pd.DataFrame(index=range(first_year, 2022))\n",
    "for year in range(first_year, 2022):\n",
    "    year_gdp = gdp_interpolated[year].dropna()\n",
    "    btc_cap = btc_jan_1st.loc[year]\n",
    "    rank = (year_gdp < btc_cap).sum() + 1  # Ranking position; +1 because rank starts from 1\n",
    "    rankings.loc[year, 'Rank'] = rank\n",
    "\n",
    "# Step 5, take the amount of countries and substrack the rankings\n",
    "countries_count = gdp_interpolated.shape[0]\n",
    "rankings['Rank'] = countries_count - rankings['Rank'] + 1\n",
    "\n",
    "# Plotting the rankings\n",
    "plt.figure(figsize=(10, 6))\n",
    "plt.plot(rankings.index, rankings['Rank'], marker='o')\n",
    "plt.title('Bitcoin Market Cap Ranking Among Countries by GDP')\n",
    "plt.xlabel('Year')\n",
    "plt.ylabel('Rank (Top x)')\n",
    "plt.grid(True)\n",
    "# invert y axis\n",
    "plt.gca().invert_yaxis()\n",
    "plt.show()"
   ]
  },
  {
   "cell_type": "code",
   "execution_count": null,
   "metadata": {},
   "outputs": [],
   "source": [
    "countries_count"
   ]
  },
  {
   "cell_type": "code",
   "execution_count": null,
   "metadata": {},
   "outputs": [],
   "source": [
    "np.array(gdp_interpolated.index)"
   ]
  }
 ],
 "metadata": {
  "kernelspec": {
   "display_name": "py310",
   "language": "python",
   "name": "python3"
  },
  "language_info": {
   "name": "python",
   "version": "3.10.13"
  }
 },
 "nbformat": 4,
 "nbformat_minor": 2
}
