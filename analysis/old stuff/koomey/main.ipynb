{
 "cells": [
  {
   "cell_type": "code",
   "execution_count": null,
   "metadata": {},
   "outputs": [],
   "source": [
    "import matplotlib.pyplot as plt\n",
    "import numpy as np\n",
    "import pandas as pd\n",
    "from pandas import Timestamp\n",
    "import statsmodels.api as sm\n",
    "from statsmodels.tsa.stattools import adfuller"
   ]
  },
  {
   "cell_type": "code",
   "execution_count": null,
   "metadata": {},
   "outputs": [],
   "source": [
    "predicted_d_ln_price_df = pd.read_csv('predictions_Quarterly Data_1_1.csv') # date\tpredicted_d_ln_price\n",
    "predicted_d_ln_price_df['date'] = pd.to_datetime(predicted_d_ln_price_df['date'])\n",
    "ln_price = np.log(price['price'])\n",
    "predicted_price = predicted_d_ln_price_df.copy()"
   ]
  },
  {
   "cell_type": "code",
   "execution_count": null,
   "metadata": {},
   "outputs": [],
   "source": [
    "# ln_price.loc[\"2023-06-30\"]"
   ]
  },
  {
   "cell_type": "code",
   "execution_count": null,
   "metadata": {},
   "outputs": [],
   "source": [
    "predicted_price"
   ]
  },
  {
   "cell_type": "code",
   "execution_count": null,
   "metadata": {},
   "outputs": [],
   "source": [
    "\n",
    "\n",
    "# go through each (date, predicted_d_ln_price) pair and obtain the predicted price of the next quarter\n",
    "for i, row in predicted_price.iterrows():\n",
    "    date = row['date']\n",
    "    predicted_d_ln_price = row['predicted_d_ln_price']\n",
    "    # calculate the predicted price of the next quarter\n",
    "    predicted_price.at[i, 'predicted_ln_price'] = ln_price.loc[date] + predicted_d_ln_price\n",
    "    predicted_price.at[i, 'ln_price'] = ln_price.loc[date]\n",
    "\n",
    "# shift the predicted price by one index\n",
    "predicted_price['predicted_ln_price'] = predicted_price['predicted_ln_price'].shift(1)\n",
    "predicted_price = predicted_price.dropna()\n",
    "predicted_price['predicted_price'] = np.exp(predicted_price['predicted_ln_price'])\n",
    "predicted_price['price'] = np.exp(predicted_price['ln_price'])\n",
    "predicted_price"
   ]
  },
  {
   "cell_type": "code",
   "execution_count": null,
   "metadata": {},
   "outputs": [],
   "source": [
    "# # Interpolate the initial price for the start_date\n",
    "# start_date = pd.Timestamp('2013-12-31')\n",
    "# if start_date not in price.index:\n",
    "#     initial_price = price['price'].reindex(price.index.union([start_date])).interpolate(method='time').loc[start_date]\n",
    "# else:\n",
    "#     initial_price = price.loc[start_date, 'price']\n",
    "\n",
    "# # Plot the original price and c_mining on a log scale\n",
    "# plt.figure(figsize=(12, 6))\n",
    "# plt.plot(price.index, price['price'], label='Price')\n",
    "# plt.plot(price.index, price['c_mining'], label='Modelled mining costs')\n",
    "# plt.yscale('log')\n",
    "# plt.xlabel('Date')\n",
    "# plt.ylabel('Value (USD)')\n",
    "# plt.title('Price and Cost of Mining over Time (Log Scale)')\n",
    "\n",
    "\n",
    "# # Add Koomey's post-2000 law\n",
    "# end_date = pd.Timestamp('2030-12-31')\n",
    "# koomey_dates = pd.date_range(start=start_date, end=end_date, freq='D')\n",
    "\n",
    "# # Koomey's law: Doubling efficiency every 2.6 years\n",
    "# koomey_values = (initial_price + 1000) * (2 ** ((koomey_dates - start_date) / pd.Timedelta(days=2.6 * 365.25)))\n",
    "\n",
    "# # Plot Koomey's law\n",
    "# plt.plot(koomey_dates, koomey_values, label=\"Koomey's post-2000 Law\", linestyle='--', color='red')\n",
    "\n",
    "# # # Plot the predicted price\n",
    "# # plt.plot(predicted_price['date'], predicted_price['predicted_price'], label='Predicted Price', linestyle='--', color='green')\n",
    "\n",
    "# # Plot the halvings\n",
    "# halving_dates = pd.to_datetime(['2012-11-28', '2016-07-09', '2020-05-11', '2024-04-01'])\n",
    "# for date in halving_dates[:-1]:\n",
    "#     plt.axvline(x=date, color='green', linestyle='--', alpha=0.7, label='Halving Events' if date == halving_dates[0] else \"\")\n",
    "\n",
    "\n",
    "# # Set x-ticks to show years\n",
    "# years = pd.date_range(start=Timestamp('2010-12-31 00:00:00'), end=end_date, freq='YS')\n",
    "# plt.xticks(years, [f\"01.01.{year.year}\" for year in years], rotation=30)\n",
    "# plt.grid(True)\n",
    "# plt.legend()\n",
    "# plt.show()"
   ]
  },
  {
   "cell_type": "code",
   "execution_count": null,
   "metadata": {},
   "outputs": [],
   "source": [
    "# c_mining = pd.DataFrame(price['c_mining'])\n",
    "# c_mining = c_mining.rename(columns={'c_mining': 'cost_per_coin'})\n",
    "# c_mining"
   ]
  },
  {
   "cell_type": "code",
   "execution_count": null,
   "metadata": {},
   "outputs": [],
   "source": [
    "# c_mining.to_csv('cost_per_coin.csv', index=True)"
   ]
  },
  {
   "cell_type": "code",
   "execution_count": null,
   "metadata": {},
   "outputs": [],
   "source": [
    "# from sklearn.metrics import r2_score\n",
    "# # Interpolate the costs and price to match the dates of Koomey's law\n",
    "# price_interpolated = price['price'].reindex(koomey_dates).interpolate(method='time')\n",
    "# c_mining_interpolated = price['c_mining'].reindex(koomey_dates).interpolate(method='time')\n",
    "\n",
    "# # Transform to log10 scale\n",
    "# log_koomey_values = np.log10(koomey_values)\n",
    "# log_price_interpolated = np.log10(price_interpolated)\n",
    "# log_c_mining_interpolated = np.log10(c_mining_interpolated)\n",
    "\n",
    "# # Calculate R^2 between Koomey's law and costs in log10 scale\n",
    "# r2_costs_log = r2_score(log_c_mining_interpolated, log_koomey_values)\n",
    "# print(f\"R^2 between Koomey's law and costs (log10 scale): {r2_costs_log}\")\n",
    "\n",
    "# # Calculate R^2 between Koomey's law and price in log10 scale\n",
    "# r2_price_log = r2_score(log_price_interpolated, log_koomey_values)\n",
    "# print(f\"R^2 between Koomey's law and price (log10 scale): {r2_price_log}\")\n",
    "\n"
   ]
  }
 ],
 "metadata": {
  "language_info": {
   "name": "python"
  }
 },
 "nbformat": 4,
 "nbformat_minor": 2
}
