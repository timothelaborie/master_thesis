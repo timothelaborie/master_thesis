{
 "cells": [
  {
   "cell_type": "code",
   "execution_count": null,
   "metadata": {},
   "outputs": [],
   "source": [
    "import pandas as pd\n",
    "import numpy as np\n",
    "from sglang import function, system, user, assistant, gen, set_default_backend, RuntimeEndpoint\n",
    "import sglang as sgl\n",
    "from torch import save\n",
    "\n",
    "\n",
    "set_default_backend(RuntimeEndpoint(\"http://localhost:30000\"))\n",
    "\n",
    "@sgl.function\n",
    "def text_qa(s, question):\n",
    "    s += question\n",
    "    s += sgl.gen(\"answer\", stop=\"]\", max_tokens=100,temperature=0)\n",
    "\n",
    "# Step 1: Read the inputs.csv file and sample 50 entries\n",
    "df_inputs = pd.read_csv('inputs.csv') # index,date,input\n",
    "#df_inputs = df_inputs.sample(50)\n",
    "\n"
   ]
  },
  {
   "cell_type": "code",
   "execution_count": null,
   "metadata": {},
   "outputs": [],
   "source": [
    "df_inputs.sample(1)"
   ]
  },
  {
   "cell_type": "code",
   "execution_count": null,
   "metadata": {},
   "outputs": [],
   "source": [
    "# Function to split DataFrame into chunks\n",
    "def split_dataframe(df, chunk_size):\n",
    "    # Use np.array_split to handle uneven sizes automatically\n",
    "    chunks = np.array_split(df, len(df) // chunk_size + (1 if len(df) % chunk_size else 0))\n",
    "    return chunks\n",
    "\n",
    "# Split the DataFrame into chunks of size 5\n",
    "# df_chunks = split_dataframe(df_inputs, 2000)\n",
    "df_chunks = split_dataframe(df_inputs, 200)\n",
    "\n",
    "for thing in df_chunks:\n",
    "    print(len(thing))"
   ]
  },
  {
   "cell_type": "code",
   "execution_count": null,
   "metadata": {},
   "outputs": [],
   "source": [
    "for i, df_chunk in enumerate(df_chunks):\n",
    "    inputs = df_chunk['input'].tolist()\n",
    "    print(\"<s>\"+inputs[0]+ \"\"\"\n",
    "```json\n",
    "{\n",
    "  \"category\": \\\"\"\"\")\n",
    "    break"
   ]
  },
  {
   "cell_type": "code",
   "execution_count": null,
   "metadata": {},
   "outputs": [],
   "source": [
    "# Process each chunk\n",
    "for i, df_chunk in enumerate(df_chunks):\n",
    "    output_loc = f'outputs/outputs_chunk_{i+1}.csv'\n",
    "    import os\n",
    "    if os.path.exists(output_loc):\n",
    "        print(f\"Skipping chunk {i+1} as it already exists\")\n",
    "        continue\n",
    "    inputs = df_chunk['input'].tolist()\n",
    "    dates = df_chunk['date'].tolist()\n",
    "    indices = df_chunk['index'].tolist()\n",
    "    \n",
    "    # Run batch inference for the current chunk\n",
    "    states = text_qa.run_batch(\n",
    "        [{\"question\": \n",
    "(\"<s>\"+input+\"\"\"\n",
    "```json\n",
    "{\n",
    "  \"category\": \\\"\"\"\")\n",
    "         } for input in inputs],\n",
    "        progress_bar=True\n",
    "    )\n",
    "    \n",
    "    texts = []\n",
    "    for state in states:\n",
    "        for out in state.text_iter():\n",
    "            texts.append(out.split(\"Sure! Here is the requested JSON document:\")[1].strip())\n",
    "    \n",
    "    # Save the outputs of the current chunk to a separate file\n",
    "    # save(texts, f'outputs_chunk_{i+1}.pt')\n",
    "    chunk_df = pd.DataFrame({\n",
    "        'index': indices,\n",
    "        'date': dates,\n",
    "        'output': texts\n",
    "    })\n",
    "    import os\n",
    "    os.makedirs('outputs', exist_ok=True)\n",
    "    chunk_df.to_csv(output_loc, index=False)"
   ]
  },
  {
   "cell_type": "code",
   "execution_count": null,
   "metadata": {},
   "outputs": [],
   "source": [
    "h"
   ]
  }
 ],
 "metadata": {
  "kernelspec": {
   "display_name": "Python 3 (ipykernel)",
   "language": "python",
   "name": "python3"
  },
  "language_info": {
   "codemirror_mode": {
    "name": "ipython",
    "version": 3
   },
   "file_extension": ".py",
   "mimetype": "text/x-python",
   "name": "python",
   "nbconvert_exporter": "python",
   "pygments_lexer": "ipython3",
   "version": "3.10.12"
  }
 },
 "nbformat": 4,
 "nbformat_minor": 4
}
