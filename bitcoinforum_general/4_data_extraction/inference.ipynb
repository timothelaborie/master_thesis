{
 "cells": [
  {
   "cell_type": "code",
   "execution_count": 1,
   "metadata": {},
   "outputs": [],
   "source": [
    "import pandas as pd\n",
    "import numpy as np\n",
    "from sglang import function, system, user, assistant, gen, set_default_backend, RuntimeEndpoint\n",
    "import sglang as sgl\n",
    "from torch import save\n",
    "\n",
    "\n",
    "set_default_backend(RuntimeEndpoint(\"http://localhost:30000\"))\n",
    "\n",
    "@sgl.function\n",
    "def text_qa(s, question):\n",
    "    s += question\n",
    "    s += sgl.gen(\"answer\", stop=None, max_tokens=400,temperature=0)\n",
    "\n",
    "# Step 1: Read the inputs.csv file and sample 50 entries\n",
    "df_inputs = pd.read_csv('inputs.csv') # index,date,input\n",
    "df_inputs = df_inputs.sample(50)\n",
    "\n"
   ]
  },
  {
   "cell_type": "code",
   "execution_count": 2,
   "metadata": {},
   "outputs": [
    {
     "data": {
      "text/html": [
       "<div>\n",
       "<style scoped>\n",
       "    .dataframe tbody tr th:only-of-type {\n",
       "        vertical-align: middle;\n",
       "    }\n",
       "\n",
       "    .dataframe tbody tr th {\n",
       "        vertical-align: top;\n",
       "    }\n",
       "\n",
       "    .dataframe thead th {\n",
       "        text-align: right;\n",
       "    }\n",
       "</style>\n",
       "<table border=\"1\" class=\"dataframe\">\n",
       "  <thead>\n",
       "    <tr style=\"text-align: right;\">\n",
       "      <th></th>\n",
       "      <th>index</th>\n",
       "      <th>date</th>\n",
       "      <th>input</th>\n",
       "    </tr>\n",
       "  </thead>\n",
       "  <tbody>\n",
       "    <tr>\n",
       "      <th>32355</th>\n",
       "      <td>32959.0</td>\n",
       "      <td>2017-07-24 01:34:56</td>\n",
       "      <td>User:\\nHere is a bitcoin forum thread:\\n\\n```t...</td>\n",
       "    </tr>\n",
       "  </tbody>\n",
       "</table>\n",
       "</div>"
      ],
      "text/plain": [
       "         index                 date  \\\n",
       "32355  32959.0  2017-07-24 01:34:56   \n",
       "\n",
       "                                                   input  \n",
       "32355  User:\\nHere is a bitcoin forum thread:\\n\\n```t...  "
      ]
     },
     "execution_count": 2,
     "metadata": {},
     "output_type": "execute_result"
    }
   ],
   "source": [
    "df_inputs.sample(1)"
   ]
  },
  {
   "cell_type": "code",
   "execution_count": 3,
   "metadata": {},
   "outputs": [
    {
     "name": "stdout",
     "output_type": "stream",
     "text": [
      "5\n",
      "5\n",
      "5\n",
      "5\n",
      "5\n",
      "5\n",
      "5\n",
      "5\n",
      "5\n",
      "5\n"
     ]
    },
    {
     "name": "stderr",
     "output_type": "stream",
     "text": [
      "/home/timothe/anaconda3/lib/python3.11/site-packages/numpy/core/fromnumeric.py:59: FutureWarning: 'DataFrame.swapaxes' is deprecated and will be removed in a future version. Please use 'DataFrame.transpose' instead.\n",
      "  return bound(*args, **kwds)\n"
     ]
    }
   ],
   "source": [
    "# Function to split DataFrame into chunks\n",
    "def split_dataframe(df, chunk_size):\n",
    "    # Use np.array_split to handle uneven sizes automatically\n",
    "    chunks = np.array_split(df, len(df) // chunk_size + (1 if len(df) % chunk_size else 0))\n",
    "    return chunks\n",
    "\n",
    "# Split the DataFrame into chunks of size 5\n",
    "# df_chunks = split_dataframe(df_inputs, 2000)\n",
    "df_chunks = split_dataframe(df_inputs, 5)\n",
    "\n",
    "for thing in df_chunks:\n",
    "    print(len(thing))"
   ]
  },
  {
   "cell_type": "code",
   "execution_count": 5,
   "metadata": {},
   "outputs": [
    {
     "name": "stderr",
     "output_type": "stream",
     "text": [
      "100%|██████████| 5/5 [00:03<00:00,  1.32it/s]\n",
      "100%|██████████| 5/5 [00:00<00:00, 11.90it/s]\n",
      "100%|██████████| 5/5 [00:00<00:00, 11.40it/s]\n",
      "100%|██████████| 5/5 [00:00<00:00, 12.65it/s]\n",
      "100%|██████████| 5/5 [00:00<00:00, 12.11it/s]\n",
      "100%|██████████| 5/5 [00:00<00:00, 12.79it/s]\n",
      "100%|██████████| 5/5 [00:00<00:00, 12.16it/s]\n",
      "100%|██████████| 5/5 [00:00<00:00, 11.89it/s]\n",
      "100%|██████████| 5/5 [00:00<00:00, 12.74it/s]\n",
      "100%|██████████| 5/5 [00:00<00:00, 11.93it/s]\n"
     ]
    }
   ],
   "source": [
    "# Process each chunk\n",
    "for i, df_chunk in enumerate(df_chunks):\n",
    "    inputs = df_chunk['input'].tolist()\n",
    "    dates = df_chunk['date'].tolist()\n",
    "    indices = df_chunk['index'].tolist()\n",
    "    \n",
    "    # Run batch inference for the current chunk\n",
    "    states = text_qa.run_batch(\n",
    "        [{\"question\": input} for input in inputs],\n",
    "        progress_bar=True\n",
    "    )\n",
    "    \n",
    "    texts = []\n",
    "    for state in states:\n",
    "        for out in state.text_iter():\n",
    "            texts.append(out.split(\"Sure! Here is the requested JSON document:\")[1].strip())\n",
    "    \n",
    "    # Save the outputs of the current chunk to a separate file\n",
    "    # save(texts, f'outputs_chunk_{i+1}.pt')\n",
    "    chunk_df = pd.DataFrame({\n",
    "        'index': indices,\n",
    "        'date': dates,\n",
    "        'output': texts\n",
    "    })\n",
    "    import os\n",
    "    os.makedirs('outputs', exist_ok=True)\n",
    "    chunk_df.to_csv(f'outputs/outputs_chunk_{i+1}.csv', index=False)"
   ]
  }
 ],
 "metadata": {
  "kernelspec": {
   "display_name": "sglang_3_11_7",
   "language": "python",
   "name": "python3"
  },
  "language_info": {
   "codemirror_mode": {
    "name": "ipython",
    "version": 3
   },
   "file_extension": ".py",
   "mimetype": "text/x-python",
   "name": "python",
   "nbconvert_exporter": "python",
   "pygments_lexer": "ipython3",
   "version": "3.11.7"
  }
 },
 "nbformat": 4,
 "nbformat_minor": 2
}
