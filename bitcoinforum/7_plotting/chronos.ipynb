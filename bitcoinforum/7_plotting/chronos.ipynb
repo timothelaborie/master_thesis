{
 "cells": [
  {
   "cell_type": "code",
   "execution_count": 83,
   "metadata": {},
   "outputs": [],
   "source": [
    "import matplotlib.pyplot as plt\n",
    "import numpy as np\n",
    "import pandas as pd\n",
    "import torch\n",
    "from chronos import ChronosPipeline\n",
    "\n",
    "pipeline = ChronosPipeline.from_pretrained(\n",
    "  \"amazon/chronos-t5-large\",\n",
    "  # \"amazon/chronos-t5-tiny\",\n",
    "  device_map=\"cuda\",\n",
    "  torch_dtype=torch.bfloat16,\n",
    ")"
   ]
  },
  {
   "cell_type": "code",
   "execution_count": 84,
   "metadata": {},
   "outputs": [],
   "source": [
    "from utils import get_data\n",
    "import warnings\n",
    "warnings.filterwarnings(\"ignore\")\n",
    "quarterly_data, monthly_data, weekly_data, daily_data = get_data('2015-01-01', '9999-01-01')"
   ]
  },
  {
   "cell_type": "code",
   "execution_count": 85,
   "metadata": {},
   "outputs": [],
   "source": [
    "# quarterly_data"
   ]
  },
  {
   "cell_type": "code",
   "execution_count": 86,
   "metadata": {},
   "outputs": [],
   "source": [
    "df = pd.DataFrame()\n",
    "# df['d_ln_avg_efficiency'] = quarterly_data['d_ln_avg_efficiency']\n",
    "# df['d_ln_open_price'] = quarterly_data['d_ln_open_price']\n",
    "# df['d_ln_avg_efficiency'] = quarterly_data['ln_avg_efficiency']+12\n",
    "df['d_ln_open_price'] = quarterly_data['ln_open_price']\n",
    "df['cost'] = quarterly_data['cost']\n",
    "df['d_cost'] = quarterly_data['d_cost']\n",
    "# drop index\n",
    "df = df.reset_index(drop=True)"
   ]
  },
  {
   "cell_type": "code",
   "execution_count": 87,
   "metadata": {},
   "outputs": [
    {
     "name": "stdout",
     "output_type": "stream",
     "text": [
      "22 8\n"
     ]
    }
   ],
   "source": [
    "test_size = 8\n",
    "train = df.iloc[:-test_size]\n",
    "test = df.iloc[-test_size:]\n",
    "print(len(train), len(test))"
   ]
  },
  {
   "cell_type": "code",
   "execution_count": 88,
   "metadata": {},
   "outputs": [
    {
     "data": {
      "text/html": [
       "<div>\n",
       "<style scoped>\n",
       "    .dataframe tbody tr th:only-of-type {\n",
       "        vertical-align: middle;\n",
       "    }\n",
       "\n",
       "    .dataframe tbody tr th {\n",
       "        vertical-align: top;\n",
       "    }\n",
       "\n",
       "    .dataframe thead th {\n",
       "        text-align: right;\n",
       "    }\n",
       "</style>\n",
       "<table border=\"1\" class=\"dataframe\">\n",
       "  <thead>\n",
       "    <tr style=\"text-align: right;\">\n",
       "      <th></th>\n",
       "      <th>d_ln_open_price</th>\n",
       "      <th>cost</th>\n",
       "      <th>d_cost</th>\n",
       "    </tr>\n",
       "  </thead>\n",
       "  <tbody>\n",
       "    <tr>\n",
       "      <th>22</th>\n",
       "      <td>9.270672</td>\n",
       "      <td>0.322974</td>\n",
       "      <td>0.025749</td>\n",
       "    </tr>\n",
       "    <tr>\n",
       "      <th>23</th>\n",
       "      <td>9.717581</td>\n",
       "      <td>0.309016</td>\n",
       "      <td>-0.013959</td>\n",
       "    </tr>\n",
       "    <tr>\n",
       "      <th>24</th>\n",
       "      <td>10.718264</td>\n",
       "      <td>0.115548</td>\n",
       "      <td>-0.193468</td>\n",
       "    </tr>\n",
       "    <tr>\n",
       "      <th>25</th>\n",
       "      <td>10.751871</td>\n",
       "      <td>0.095822</td>\n",
       "      <td>-0.019726</td>\n",
       "    </tr>\n",
       "    <tr>\n",
       "      <th>26</th>\n",
       "      <td>10.640330</td>\n",
       "      <td>0.071940</td>\n",
       "      <td>-0.023882</td>\n",
       "    </tr>\n",
       "    <tr>\n",
       "      <th>27</th>\n",
       "      <td>10.934922</td>\n",
       "      <td>0.070699</td>\n",
       "      <td>-0.001241</td>\n",
       "    </tr>\n",
       "    <tr>\n",
       "      <th>28</th>\n",
       "      <td>10.631699</td>\n",
       "      <td>0.125531</td>\n",
       "      <td>0.054832</td>\n",
       "    </tr>\n",
       "    <tr>\n",
       "      <th>29</th>\n",
       "      <td>10.394331</td>\n",
       "      <td>0.183824</td>\n",
       "      <td>0.058292</td>\n",
       "    </tr>\n",
       "  </tbody>\n",
       "</table>\n",
       "</div>"
      ],
      "text/plain": [
       "    d_ln_open_price      cost    d_cost\n",
       "22         9.270672  0.322974  0.025749\n",
       "23         9.717581  0.309016 -0.013959\n",
       "24        10.718264  0.115548 -0.193468\n",
       "25        10.751871  0.095822 -0.019726\n",
       "26        10.640330  0.071940 -0.023882\n",
       "27        10.934922  0.070699 -0.001241\n",
       "28        10.631699  0.125531  0.054832\n",
       "29        10.394331  0.183824  0.058292"
      ]
     },
     "execution_count": 88,
     "metadata": {},
     "output_type": "execute_result"
    }
   ],
   "source": [
    "test"
   ]
  },
  {
   "cell_type": "code",
   "execution_count": 89,
   "metadata": {},
   "outputs": [],
   "source": [
    "# Initialize context with training data\n",
    "context1 = torch.tensor(train[\"d_ln_open_price\"], dtype=torch.float32)\n",
    "context2 = torch.tensor(train[\"cost\"], dtype=torch.float32)\n",
    "context3 = torch.tensor(train[\"d_cost\"], dtype=torch.float32)\n",
    "\n",
    "\n",
    "# Lists to collect predictions\n",
    "predictions_cost = []\n",
    "predictions_d_cost = []\n",
    "predictions_d_ln_open_price = []\n",
    "\n",
    "# Predict one step at a time\n",
    "for i in range(len(test)):\n",
    "    forecast = pipeline.predict([\n",
    "        context1, \n",
    "        context2, \n",
    "        context3\n",
    "        ], prediction_length=1)\n",
    "    \n",
    "\n",
    "    predictions_d_ln_open_price.append(np.quantile(forecast[0].numpy(), 0.5, axis=0).item())\n",
    "    predictions_cost.append(np.quantile(forecast[1].numpy(), 0.5, axis=0).item())\n",
    "    predictions_d_cost.append(np.quantile(forecast[1].numpy(), 0.5, axis=0).item())\n",
    "\n",
    "    context1 = torch.cat([context1, torch.tensor([test.iloc[i][\"d_ln_open_price\"]], dtype=torch.float32)])\n",
    "    context2 = torch.cat([context2, torch.tensor([test.iloc[i][\"cost\"]], dtype=torch.float32)])\n",
    "    context3 = torch.cat([context3, torch.tensor([test.iloc[i][\"d_cost\"]], dtype=torch.float32)])\n",
    "    \n",
    "\n",
    "# Convert predictions to numpy arrays for plotting\n",
    "predictions_d_ln_open_price = np.array(predictions_d_ln_open_price)\n",
    "predictions_cost = np.array(predictions_cost)\n",
    "predictions_d_cost = np.array(predictions_d_cost)\n",
    "\n",
    "\n"
   ]
  },
  {
   "cell_type": "code",
   "execution_count": 90,
   "metadata": {},
   "outputs": [
    {
     "data": {
      "image/png": "[encoded data removed]",
      "text/plain": [
       "<Figure size 1000x500 with 1 Axes>"
      ]
     },
     "metadata": {},
     "output_type": "display_data"
    }
   ],
   "source": [
    "# Plotting the results\n",
    "plt.figure(figsize=(10, 5))\n",
    "\n",
    "plt.scatter(range(len(test)), test[\"cost\"], label=\"cost\", color=\"black\", marker='o')\n",
    "plt.scatter(range(len(test)), predictions_cost, label=\"cost prediction\", color=\"red\", marker='x')\n",
    "\n",
    "plt.legend()\n",
    "plt.title(\"One-step Ahead Forecast\")\n",
    "plt.show()"
   ]
  },
  {
   "cell_type": "code",
   "execution_count": 91,
   "metadata": {},
   "outputs": [
    {
     "data": {
      "image/png": "[encoded data removed]",
      "text/plain": [
       "<Figure size 1000x500 with 1 Axes>"
      ]
     },
     "metadata": {},
     "output_type": "display_data"
    }
   ],
   "source": [
    "# Plotting the results\n",
    "plt.figure(figsize=(10, 5))\n",
    "\n",
    "plt.scatter(range(len(test)), test[\"d_ln_open_price\"], label=\"d_ln_open_price\", color=\"black\", marker='o')\n",
    "plt.scatter(range(len(test)), predictions_d_ln_open_price, label=\"d_ln_open_price prediction\", color=\"red\", marker='x')\n",
    "\n",
    "plt.legend()\n",
    "plt.title(\"One-step Ahead Forecast\")\n",
    "plt.show()"
   ]
  },
  {
   "cell_type": "code",
   "execution_count": 92,
   "metadata": {},
   "outputs": [
    {
     "name": "stdout",
     "output_type": "stream",
     "text": [
      "average prediction mean_squared_error for cost:  0.005297072993483471\n",
      "average prediction mean_squared_error for d_ln_open_price:  0.151176342763728\n"
     ]
    }
   ],
   "source": [
    "# print(\"average prediction error for cost: \", np.mean(np.abs(predictions_cost - test[\"cost\"].values)))\n",
    "# print(\"average prediction error for d_cost: \", np.mean(np.abs(predictions_d_cost - test[\"d_cost\"].values)))\n",
    "# print(\"average prediction error for d_ln_open_price: \", np.mean(np.abs(predictions_d_ln_open_price - test[\"d_ln_open_price\"].values)))\n",
    "\n",
    "from sklearn.metrics import mean_squared_error\n",
    "print(\"average prediction mean_squared_error for cost: \", mean_squared_error(predictions_cost, test[\"cost\"].values))\n",
    "# print(\"average prediction mean_squared_error for d_cost: \", mean_squared_error(predictions_d_cost, test[\"d_cost\"].values))\n",
    "print(\"average prediction mean_squared_error for d_ln_open_price: \", mean_squared_error(predictions_d_ln_open_price, test[\"d_ln_open_price\"].values))"
   ]
  },
  {
   "cell_type": "code",
   "execution_count": 93,
   "metadata": {},
   "outputs": [],
   "source": [
    "# # context must be either a 1D tensor, a list of 1D tensors,\n",
    "# # or a left-padded 2D tensor with batch as the first dimension\n",
    "# context1 = torch.tensor(train[\"d_ln_avg_efficiency\"])\n",
    "# context2 = torch.tensor(train[\"d_ln_open_price\"])\n",
    "# context = [context1, context2]"
   ]
  },
  {
   "cell_type": "code",
   "execution_count": 94,
   "metadata": {},
   "outputs": [],
   "source": [
    "# prediction_length = len(test)\n",
    "# forecast = pipeline.predict(context, prediction_length)  # shape [num_series, num_samples, prediction_length]"
   ]
  },
  {
   "cell_type": "code",
   "execution_count": 95,
   "metadata": {},
   "outputs": [],
   "source": [
    "# forecast.shape # torch.Size([2, prediction_length, prediction_length])"
   ]
  },
  {
   "cell_type": "code",
   "execution_count": 96,
   "metadata": {},
   "outputs": [],
   "source": [
    "# # forecast_index = range(len(train), len(train) + prediction_length)\n",
    "# forecast_index = range(len(test))\n",
    "# low, median_d_ln_avg_efficiency, high = np.quantile(forecast[0].numpy(), [0.1, 0.5, 0.9], axis=0)\n",
    "# low, median_d_ln_open_price, high = np.quantile(forecast[1].numpy(), [0.1, 0.5, 0.9], axis=0)"
   ]
  },
  {
   "cell_type": "code",
   "execution_count": null,
   "metadata": {},
   "outputs": [],
   "source": []
  },
  {
   "cell_type": "code",
   "execution_count": 97,
   "metadata": {},
   "outputs": [],
   "source": [
    "# # visualize the forecast\n",
    "# plt.figure(figsize=(8, 4))\n",
    "# plt.plot(np.array(df[\"d_ln_avg_efficiency\"])[:len(test)], color=\"green\", label=\"real d_ln_avg_efficiency\")\n",
    "# plt.plot(np.array(df[\"d_ln_open_price\"])[:len(test)], color=\"blue\", label=\"real d_ln_open_price\")\n",
    "# plt.plot(forecast_index, median_d_ln_avg_efficiency, color=\"magenta\", label=\"median forecast\")\n",
    "# plt.plot(forecast_index, median_d_ln_open_price, color=\"tomato\", label=\"median forecast\")\n",
    "# plt.fill_between(forecast_index, low, high, color=\"tomato\", alpha=0.3, label=\"80% prediction interval\")\n",
    "# plt.legend()\n",
    "# plt.grid()\n",
    "# plt.show()"
   ]
  }
 ],
 "metadata": {
  "kernelspec": {
   "display_name": "py310",
   "language": "python",
   "name": "python3"
  },
  "language_info": {
   "codemirror_mode": {
    "name": "ipython",
    "version": 3
   },
   "file_extension": ".py",
   "mimetype": "text/x-python",
   "name": "python",
   "nbconvert_exporter": "python",
   "pygments_lexer": "ipython3",
   "version": "3.10.13"
  }
 },
 "nbformat": 4,
 "nbformat_minor": 2
}
