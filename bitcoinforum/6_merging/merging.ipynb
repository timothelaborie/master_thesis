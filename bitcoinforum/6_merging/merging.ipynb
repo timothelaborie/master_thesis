{
 "cells": [
  {
   "cell_type": "code",
   "execution_count": null,
   "metadata": {},
   "outputs": [],
   "source": [
    "import pandas as pd\n",
    "import numpy as np\n",
    "import os\n",
    "import gzip\n",
    "import pickle\n",
    "import re\n",
    "import copy\n",
    "from tqdm import tqdm\n",
    "import time\n",
    "import json\n",
    "from datetime import datetime, timedelta\n",
    "# pd.set_option('display.max_columns', 5000)\n",
    "pd.set_option('display.max_rows', 100)"
   ]
  },
  {
   "cell_type": "code",
   "execution_count": null,
   "metadata": {},
   "outputs": [],
   "source": [
    "data = pd.read_csv('../5_processing_extracted_data/hardware_instances_with_efficiency.csv') # date,row_index,hardware_name,TH/J\n",
    "\n",
    "# Convert the 'date' column to a datetime format\n",
    "data['date'] = pd.to_datetime(data['date'])\n",
    "\n",
    "# keep only data from 2011 onwards\n",
    "data = data[data['date'] >= '2011-01-02']\n",
    "\n",
    "# Create a 'month' column\n",
    "data['month'] = (data['date']).dt.to_period('M')\n",
    "\n",
    "# Group by 'month' and calculate the mean of 'TH/J'\n",
    "quarterly_data = data.groupby('month')['TH/J'].mean().reset_index()\n",
    "\n",
    "# Convert 'month' back to datetime (first day of the month)\n",
    "quarterly_data['month'] = quarterly_data['month'].dt.to_timestamp()\n",
    "\n",
    "\n",
    "# monthly_efficiency contains:\n",
    "# Date,ln(P_max),Data monthly average,Model ln(P_eff)\n",
    "# 2011-04-01,-12.485786548332777,1.6612383008356546e-06,1.5657608695648479e-06\n",
    "monthly_efficiency = quarterly_data"
   ]
  },
  {
   "cell_type": "code",
   "execution_count": null,
   "metadata": {},
   "outputs": [],
   "source": [
    "# hashrate,coins_per_block,date\n",
    "# 4318540.0,50.0,2009-01-01\n",
    "BitcoinData = pd.read_csv('./BitcoinData/BitcoinData.csv')\n",
    "BitcoinData['date'] = pd.to_datetime(BitcoinData['date'])"
   ]
  },
  {
   "cell_type": "code",
   "execution_count": null,
   "metadata": {},
   "outputs": [],
   "source": [
    "# Start,End,Open,High,Low,Close,Volume,Market Cap\n",
    "# 2024-03-08,2024-03-09,66871.2,69451.15,66398.03,68202.87,71117263448.78049,1329444482209.993\n",
    "price = pd.read_csv('BitcoinData/pricehistory/price_full.csv') \n",
    "\n",
    "\n",
    "\n",
    "df1 = pd.DataFrame(columns=['date', 'price'])\n",
    "df3 = pd.DataFrame(columns=['date', 'efficiency'])\n",
    "\n",
    "\n",
    "df1['date'] = pd.to_datetime(price['Start'])\n",
    "df1['price'] = price['Close']\n",
    "\n",
    "df3['date'] = pd.to_datetime(monthly_efficiency['month'], format='%Y-%m-%d')\n",
    "df3['efficiency'] = monthly_efficiency['TH/J']*1e12\n",
    "\n",
    "joined = pd.merge(df1, BitcoinData, on='date', how='inner')\n",
    "joined = pd.merge(joined, df3, on='date', how='inner')\n",
    "joined = joined.dropna()"
   ]
  },
  {
   "cell_type": "code",
   "execution_count": null,
   "metadata": {},
   "outputs": [],
   "source": [
    "pd.set_option('display.max_rows', None)\n",
    "joined.head(3)"
   ]
  },
  {
   "cell_type": "code",
   "execution_count": null,
   "metadata": {},
   "outputs": [],
   "source": [
    "df = joined"
   ]
  },
  {
   "cell_type": "code",
   "execution_count": null,
   "metadata": {},
   "outputs": [],
   "source": [
    "df['date'] = pd.to_datetime(df['date']).dt.date\n",
    "df.head(3)"
   ]
  },
  {
   "cell_type": "code",
   "execution_count": null,
   "metadata": {},
   "outputs": [],
   "source": [
    "max_efficiency_df = pd.read_csv('../../hardwarelist/pmaxv3.csv', usecols=['date', 'max_efficiency'])\n",
    "max_efficiency_df['date'] = pd.to_datetime(max_efficiency_df['date']).dt.date\n",
    "# Create a 'month' column\n",
    "max_efficiency_df['month'] = pd.to_datetime(max_efficiency_df['date']).dt.to_period('M')\n",
    "# Group by 'month' and calculate the max of 'TH/J'\n",
    "max_efficiency_df = max_efficiency_df.groupby('month')['max_efficiency'].max().reset_index()\n",
    "# Convert 'month' back to datetime (first day of the month)\n",
    "max_efficiency_df['date'] = max_efficiency_df['month'].dt.to_timestamp()\n",
    "max_efficiency_df.drop(columns=[\"month\"], inplace=True)\n",
    "max_efficiency_df.tail(5)"
   ]
  },
  {
   "cell_type": "code",
   "execution_count": null,
   "metadata": {},
   "outputs": [],
   "source": [
    "# Merge with max efficiency\n",
    "df['date'] = df['date'].astype(str)\n",
    "max_efficiency_df['date'] = max_efficiency_df['date'].astype(str)\n",
    "df = pd.merge(df, max_efficiency_df, on='date', how='left')"
   ]
  },
  {
   "cell_type": "code",
   "execution_count": null,
   "metadata": {},
   "outputs": [],
   "source": [
    "# Convert dates to end of the month\n",
    "df['date'] = pd.to_datetime(df['date']) + pd.offsets.MonthEnd(0)"
   ]
  },
  {
   "cell_type": "code",
   "execution_count": null,
   "metadata": {},
   "outputs": [],
   "source": [
    "df.to_csv('monthly_stuff.csv', index=False)"
   ]
  }
 ],
 "metadata": {
  "kernelspec": {
   "display_name": "py310",
   "language": "python",
   "name": "python3"
  },
  "language_info": {
   "codemirror_mode": {
    "name": "ipython",
    "version": 3
   },
   "file_extension": ".py",
   "mimetype": "text/x-python",
   "name": "python",
   "nbconvert_exporter": "python",
   "pygments_lexer": "ipython3",
   "version": "3.10.13"
  }
 },
 "nbformat": 4,
 "nbformat_minor": 2
}
