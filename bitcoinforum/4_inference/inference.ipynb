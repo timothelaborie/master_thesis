{
 "cells": [
  {
   "cell_type": "code",
   "execution_count": null,
   "metadata": {},
   "outputs": [],
   "source": [
    "import pandas as pd\n",
    "import numpy as np\n",
    "from sglang import function, system, user, assistant, gen, set_default_backend, RuntimeEndpoint\n",
    "import sglang as sgl\n",
    "from torch import save\n",
    "\n",
    "\n",
    "set_default_backend(RuntimeEndpoint(\"http://localhost:30000\"))\n",
    "\n",
    "@sgl.function\n",
    "def text_qa(s, question):\n",
    "    s += question\n",
    "    s += sgl.gen(\"answer\", stop=None, max_tokens=400,temperature=0)\n",
    "\n",
    "# Step 1: Read the inputs.csv file and sample 50 entries\n",
    "df_inputs = pd.read_csv('../2_train_set_creation/inputs.csv')\n",
    "df_inputs = df_inputs\n",
    "\n",
    "# Function to split DataFrame into chunks\n",
    "def split_dataframe(df, chunk_size):\n",
    "    # Use np.array_split to handle uneven sizes automatically\n",
    "    chunks = np.array_split(df, len(df) // chunk_size + (1 if len(df) % chunk_size else 0))\n",
    "    return chunks\n",
    "\n",
    "# Split the DataFrame into chunks of size 5\n",
    "df_chunks = split_dataframe(df_inputs, 2000)  # Adjust the chunk size as needed\n",
    "\n",
    "for thing in df_chunks:\n",
    "    print(len(thing))"
   ]
  },
  {
   "cell_type": "code",
   "execution_count": null,
   "metadata": {},
   "outputs": [],
   "source": [
    "# Process each chunk\n",
    "for i, df_chunk in enumerate(df_chunks):\n",
    "    questions = df_chunk['input'].tolist()\n",
    "    \n",
    "    # Run batch inference for the current chunk\n",
    "    states = text_qa.run_batch(\n",
    "        [{\"question\": question} for question in questions],\n",
    "        progress_bar=True\n",
    "    )\n",
    "    \n",
    "    texts = []\n",
    "    for state in states:\n",
    "        for out in state.text_iter():\n",
    "            texts.append(out)\n",
    "    \n",
    "    # Save the outputs of the current chunk to a separate file\n",
    "    save(texts, f'../5_processing_extracted_data/outputs_chunk_{i+1}.pt')"
   ]
  }
 ],
 "metadata": {
  "kernelspec": {
   "display_name": "py310",
   "language": "python",
   "name": "python3"
  },
  "language_info": {
   "name": "python",
   "version": "3.10.13"
  }
 },
 "nbformat": 4,
 "nbformat_minor": 2
}
