{
 "cells": [
  {
   "cell_type": "code",
   "execution_count": 11,
   "metadata": {},
   "outputs": [],
   "source": [
    "import pandas as pd\n",
    "import os\n",
    "import gzip\n",
    "import pickle\n",
    "import openai\n",
    "import torch.nn.functional as F\n",
    "import torch"
   ]
  },
  {
   "cell_type": "code",
   "execution_count": 12,
   "metadata": {},
   "outputs": [],
   "source": [
    "df_hardware_name = pd.read_parquet('datasets/extracted/hardware_name.parquet')\n",
    "# remove rows where hardware_name is \"Nothing\"\n",
    "df_hardware_name = df_hardware_name[df_hardware_name['hardware_name'] != 'Nothing']\n",
    "\n",
    "# sort by date\n",
    "df_hardware_name = df_hardware_name.sort_values(by=['date'])\n",
    "df_hardware_name"
   ]
  },
  {
   "cell_type": "code",
   "execution_count": 15,
   "metadata": {},
   "outputs": [
    {
     "data": {
      "text/html": [
       "<div>\n",
       "<style scoped>\n",
       "    .dataframe tbody tr th:only-of-type {\n",
       "        vertical-align: middle;\n",
       "    }\n",
       "\n",
       "    .dataframe tbody tr th {\n",
       "        vertical-align: top;\n",
       "    }\n",
       "\n",
       "    .dataframe thead th {\n",
       "        text-align: right;\n",
       "    }\n",
       "</style>\n",
       "<table border=\"1\" class=\"dataframe\">\n",
       "  <thead>\n",
       "    <tr style=\"text-align: right;\">\n",
       "      <th></th>\n",
       "      <th>date</th>\n",
       "      <th>hardware_price</th>\n",
       "    </tr>\n",
       "  </thead>\n",
       "  <tbody>\n",
       "    <tr>\n",
       "      <th>6</th>\n",
       "      <td>2012-04-05</td>\n",
       "      <td>$150</td>\n",
       "    </tr>\n",
       "    <tr>\n",
       "      <th>7</th>\n",
       "      <td>2014-01-05</td>\n",
       "      <td>$810</td>\n",
       "    </tr>\n",
       "    <tr>\n",
       "      <th>0</th>\n",
       "      <td>2014-07-15</td>\n",
       "      <td>$850</td>\n",
       "    </tr>\n",
       "    <tr>\n",
       "      <th>10</th>\n",
       "      <td>2015-04-29</td>\n",
       "      <td>1.5 btc</td>\n",
       "    </tr>\n",
       "    <tr>\n",
       "      <th>1</th>\n",
       "      <td>2020-03-31</td>\n",
       "      <td>3605$</td>\n",
       "    </tr>\n",
       "    <tr>\n",
       "      <th>5</th>\n",
       "      <td>2021-09-26</td>\n",
       "      <td>&lt;hardware price&gt; 500EUR</td>\n",
       "    </tr>\n",
       "  </tbody>\n",
       "</table>\n",
       "</div>"
      ],
      "text/plain": [
       "          date           hardware_price\n",
       "6   2012-04-05                     $150\n",
       "7   2014-01-05                     $810\n",
       "0   2014-07-15                     $850\n",
       "10  2015-04-29                  1.5 btc\n",
       "1   2020-03-31                    3605$\n",
       "5   2021-09-26  <hardware price> 500EUR"
      ]
     },
     "execution_count": 15,
     "metadata": {},
     "output_type": "execute_result"
    }
   ],
   "source": [
    "df_hardware_price = pd.read_parquet('datasets/extracted/hardware_price.parquet')\n",
    "# remove rows where hardware_price is \"Nothing\"\n",
    "df_hardware_price = df_hardware_price[df_hardware_price['hardware_price'] != 'Nothing']\n",
    "\n",
    "# sort by date\n",
    "df_hardware_price = df_hardware_price.sort_values(by=['date'])\n",
    "df_hardware_price"
   ]
  }
 ],
 "metadata": {
  "kernelspec": {
   "display_name": "base",
   "language": "python",
   "name": "python3"
  },
  "language_info": {
   "codemirror_mode": {
    "name": "ipython",
    "version": 3
   },
   "file_extension": ".py",
   "mimetype": "text/x-python",
   "name": "python",
   "nbconvert_exporter": "python",
   "pygments_lexer": "ipython3",
   "version": "3.9.7"
  }
 },
 "nbformat": 4,
 "nbformat_minor": 2
}
