{
 "cells": [
  {
   "cell_type": "code",
   "execution_count": null,
   "metadata": {},
   "outputs": [],
   "source": [
    "import pandas as pd\n",
    "import os\n",
    "import re\n",
    "from bs4 import BeautifulSoup\n",
    "pd.set_option('display.max_rows', 50)\n",
    "\n",
    "df = pd.DataFrame()\n",
    "\n",
    "# category = \"groupbuys\"\n",
    "# category = \"hardware\"\n",
    "# category = \"miners\"\n",
    "category = \"mining\"\n",
    "# category = \"mining_speculation\"\n",
    "# category = \"mining_support\"\n",
    "# category = \"pools\"\n",
    "\n",
    "# folder2 = \"sorted-preprocessed-data\"\n",
    "folder2 = \"raw-data\"\n",
    "\n",
    "#load every csv in the folder and append them\n",
    "csv = os.listdir(folder2+\"/\"+category)\n",
    "for file in csv:\n",
    "    df = pd.concat([df, pd.read_csv(folder2+\"/\"+category+\"/\"+file)], axis=0)\n",
    "\n",
    "df[\"original_info\"] = df[\"original_info\"].astype(str)\n",
    "df = df.reset_index(drop=True)\n",
    "\n",
    "#shorten df to test code\n",
    "# df = df[:300]\n",
    "\n",
    "def clean_row(row):\n",
    "    html = row[\"original_info\"]\n",
    "    soup = BeautifulSoup(html, 'html.parser')\n",
    "    #the date is in <div class=\"smalltext\">\n",
    "    date = soup.find(\"div\", {\"class\": \"smalltext\"}).text\n",
    "    #if the date contains \"Last edit: \", use that instead\n",
    "    if \"Last edit:\" in date:\n",
    "        date = date.split(\"Last edit: \")[1]\n",
    "    if \" by \" in date:\n",
    "        date = date.split(\" by \")[0]\n",
    "    #delete <div class=\"quote\">\n",
    "    for quote in soup.find_all(\"div\", {\"class\": \"quote\"}):\n",
    "        quote.decompose()\n",
    "    for quote in soup.find_all(\"div\", {\"class\": \"quoteheader\"}):\n",
    "        quote.decompose()\n",
    "    #post is in <div class=\"post\">\n",
    "    post = soup.find(\"div\", {\"class\": \"post\"}).text\n",
    "    #remove all links\n",
    "    post = re.sub(r'http\\S+', '<link>', post)\n",
    "    #remove duplicate spaces\n",
    "    post = re.sub(' +', ' ', post)\n",
    "    #remove all non-ascii characters\n",
    "    post = post.encode(\"ascii\", errors=\"ignore\").decode()\n",
    "    #remove all words that have a length above 20 (most likely a btc address or something useless)\n",
    "    post = \" \".join([(word if len(word) < 20 else \"<truncated>\") for word in post.split()])\n",
    "\n",
    "    return post, date\n"
   ]
  },
  {
   "cell_type": "code",
   "execution_count": null,
   "metadata": {},
   "outputs": [],
   "source": [
    "df[\"post\"], df[\"date\"] = zip(*df.apply(clean_row, axis=1))"
   ]
  },
  {
   "cell_type": "code",
   "execution_count": null,
   "metadata": {},
   "outputs": [],
   "source": [
    "df = df[['topic', 'post', 'date']]\n",
    "# replace \"Today at \" with \"October 1, 2023, \"\n",
    "df[\"date\"] = df[\"date\"].str.replace(\"Today at \", \"September 21, 2023, \")\n",
    "df['date'] = pd.to_datetime(df['date'])\n",
    "df = df.sort_values(by=[\"date\"])\n",
    "#remove \"Re: \" from topic\n",
    "df[\"topic\"] = df[\"topic\"].str.replace(\"Re: \", \"\")\n",
    "df"
   ]
  },
  {
   "cell_type": "code",
   "execution_count": null,
   "metadata": {},
   "outputs": [],
   "source": [
    "# group by topic and append all the strings from the post column\n",
    "df[\"date\"] = df[\"date\"].astype(str)\n",
    "df = df.groupby('topic').agg({'post': '<sep>'.join, 'date': '<sep>'.join}).reset_index()"
   ]
  },
  {
   "cell_type": "code",
   "execution_count": null,
   "metadata": {},
   "outputs": [],
   "source": [
    "df[\"dates\"] = df[\"date\"]\n",
    "df['date'] = df['date'].apply(lambda x: x.split(\"<sep>\")[-1])\n",
    "df['date'] = pd.to_datetime(df['date'])\n",
    "df = df.sort_values(by=[\"date\"])"
   ]
  },
  {
   "cell_type": "code",
   "execution_count": null,
   "metadata": {},
   "outputs": [],
   "source": [
    "df"
   ]
  },
  {
   "cell_type": "code",
   "execution_count": null,
   "metadata": {},
   "outputs": [],
   "source": [
    "# import matplotlib.pyplot as plt\n",
    "# plt.hist(df[\"start_edit\"], bins=10, edgecolor='black')\n",
    "\n",
    "# # Add labels and title\n",
    "# plt.xlabel('date')\n",
    "# plt.ylabel('Value')\n",
    "# plt.title('Bar Plot of Integers')\n",
    "\n",
    "# # Show the plot\n",
    "# plt.show()\n",
    "\n",
    "# print(df[\"start_edit\"].max())\n",
    "# print(df[\"start_edit\"].min())"
   ]
  },
  {
   "cell_type": "code",
   "execution_count": null,
   "metadata": {},
   "outputs": [],
   "source": [
    "import gzip\n",
    "import pickle\n",
    "#save to gzip\n",
    "with gzip.open('cleaned-data/'+category+'.pkl.gz', 'wb') as f:\n",
    "    pickle.dump(df, f)"
   ]
  }
 ],
 "metadata": {
  "kernelspec": {
   "display_name": "base",
   "language": "python",
   "name": "python3"
  },
  "language_info": {
   "codemirror_mode": {
    "name": "ipython",
    "version": 3
   },
   "file_extension": ".py",
   "mimetype": "text/x-python",
   "name": "python",
   "nbconvert_exporter": "python",
   "pygments_lexer": "ipython3",
   "version": "3.9.7"
  },
  "orig_nbformat": 4
 },
 "nbformat": 4,
 "nbformat_minor": 2
}
