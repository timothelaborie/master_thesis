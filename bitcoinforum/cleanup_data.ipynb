{
 "cells": [
  {
   "cell_type": "code",
   "execution_count": null,
   "metadata": {},
   "outputs": [],
   "source": [
    "import pandas as pd\n",
    "import os\n",
    "import re\n",
    "from bs4 import BeautifulSoup\n",
    "pd.set_option('display.max_rows', 50)\n",
    "\n",
    "df = pd.DataFrame()\n",
    "\n",
    "folder = \"groupbuys\"\n",
    "# folder2 = \"sorted-preprocessed-data\"\n",
    "folder2 = \"raw-data\"\n",
    "#load every csv in the folder and append them\n",
    "csv = os.listdir(folder2+\"/\"+folder)\n",
    "for file in csv:\n",
    "    df = pd.concat([df, pd.read_csv(folder2+\"/\"+folder+\"/\"+file)], axis=0)\n",
    "\n",
    "# df = df[[\"topic\",\"post\",\"start_edit\", \"last_edit\"]]\n",
    "df[\"post\"] = df[\"post\"].astype(str)\n",
    "df[\"original_info\"] = df[\"original_info\"].astype(str)\n",
    "# df = df.sort_values(by=[\"start_edit\"]).reset_index(drop=True)\n",
    "df = df.reset_index(drop=True)\n",
    "\n",
    "def clean_post(post):\n",
    "    #remove all links\n",
    "    post = re.sub(r'http\\S+', '<link>', post)\n",
    "    #remove duplicate spaces\n",
    "    post = re.sub(' +', ' ', post)\n",
    "    #remove all non-ascii characters\n",
    "    post = post.encode(\"ascii\", errors=\"ignore\").decode()\n",
    "    #remove all words that have a length above 20 (most likely a btc address or something useless)\n",
    "    post = \" \".join([(word if len(word) < 20 else \"<btc_address>\") for word in post.split()])\n",
    "\n",
    "    return post\n",
    "\n",
    "df[\"post\"] = df[\"post\"].apply(clean_post)"
   ]
  },
  {
   "cell_type": "code",
   "execution_count": null,
   "metadata": {},
   "outputs": [],
   "source": [
    "df"
   ]
  },
  {
   "cell_type": "code",
   "execution_count": null,
   "metadata": {},
   "outputs": [],
   "source": [
    "df_ = df[df[\"topic\"] == \"Re: Avalon resell and hosting plan\"]\n",
    "for (id,row) in df_.iterrows():\n",
    "    html = row[\"original_info\"]\n",
    "    soup = BeautifulSoup(html, 'html.parser')\n",
    "    #the date is in <div class=\"smalltext\">\n",
    "    date = soup.find(\"div\", {\"class\": \"smalltext\"}).text\n",
    "    #delete <div class=\"quote\">\n",
    "    for quote in soup.find_all(\"div\", {\"class\": \"quote\"}):\n",
    "        quote.decompose()\n",
    "    for quote in soup.find_all(\"div\", {\"class\": \"quoteheader\"}):\n",
    "        quote.decompose()\n",
    "    #post is in <div class=\"post\">\n",
    "    post = soup.find(\"div\", {\"class\": \"post\"}).text\n",
    "    print(\"date:\", date)\n",
    "    print(clean_post(post))\n",
    "    print(\"----\")"
   ]
  },
  {
   "cell_type": "code",
   "execution_count": null,
   "metadata": {},
   "outputs": [],
   "source": [
    "# group by topic and append all the strings from the post column\n",
    "# df = df.groupby('topic').agg({'post': '\\n--------\\n'.join, 'start_edit': 'first', 'last_edit': 'last'}).reset_index()\n",
    "df = df.groupby('topic').agg({'post': '<sep>'.join, 'start_edit': '<sep>'.join, 'last_edit': '<sep>'.join}).reset_index()"
   ]
  },
  {
   "cell_type": "code",
   "execution_count": null,
   "metadata": {},
   "outputs": [],
   "source": [
    "df = df.sort_values(by=[\"start_edit\"])"
   ]
  },
  {
   "cell_type": "code",
   "execution_count": null,
   "metadata": {},
   "outputs": [],
   "source": [
    "df"
   ]
  },
  {
   "cell_type": "code",
   "execution_count": null,
   "metadata": {},
   "outputs": [],
   "source": [
    "# import matplotlib.pyplot as plt\n",
    "# plt.hist(df[\"start_edit\"], bins=10, edgecolor='black')\n",
    "\n",
    "# # Add labels and title\n",
    "# plt.xlabel('date')\n",
    "# plt.ylabel('Value')\n",
    "# plt.title('Bar Plot of Integers')\n",
    "\n",
    "# # Show the plot\n",
    "# plt.show()\n",
    "\n",
    "# print(df[\"start_edit\"].max())\n",
    "# print(df[\"start_edit\"].min())"
   ]
  },
  {
   "cell_type": "code",
   "execution_count": null,
   "metadata": {},
   "outputs": [],
   "source": [
    "#print a sample\n",
    "for (id,row) in df.head(50).iterrows():\n",
    "    if(len(row[\"post\"]) < 100):\n",
    "        continue\n",
    "    print(\"id: \", id)\n",
    "    print(\"topic: \", row[\"topic\"])\n",
    "    print(\"posts:\")\n",
    "    # print(\"date: \", row[\"start_edit\"])\n",
    "    # print(row[\"post\"])\n",
    "    # print(\"\\n\\n\\n\\n\\n\")\n",
    "    for (post, start_edit, last_edit) in zip(row[\"post\"].split(\"<sep>\"), row[\"start_edit\"].split(\"<sep>\"), row[\"last_edit\"].split(\"<sep>\")):\n",
    "        print(\"start_edit: \", start_edit)\n",
    "        print(\"last_edit: \", last_edit)\n",
    "        print(post)\n",
    "        print(\"-----------------\")\n",
    "    print(\"\\n\\n\\n\\n\\n\")"
   ]
  },
  {
   "cell_type": "code",
   "execution_count": null,
   "metadata": {},
   "outputs": [],
   "source": [
    "print(df.loc[2072][\"post\"])"
   ]
  },
  {
   "cell_type": "code",
   "execution_count": null,
   "metadata": {},
   "outputs": [],
   "source": [
    "print(df.loc[3529][\"post\"])\n",
    "print(df.loc[2072][\"post\"])"
   ]
  }
 ],
 "metadata": {
  "kernelspec": {
   "display_name": "base",
   "language": "python",
   "name": "python3"
  },
  "language_info": {
   "codemirror_mode": {
    "name": "ipython",
    "version": 3
   },
   "file_extension": ".py",
   "mimetype": "text/x-python",
   "name": "python",
   "nbconvert_exporter": "python",
   "pygments_lexer": "ipython3",
   "version": "3.9.7"
  },
  "orig_nbformat": 4
 },
 "nbformat": 4,
 "nbformat_minor": 2
}
