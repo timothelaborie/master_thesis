{
 "cells": [
  {
   "cell_type": "code",
   "execution_count": null,
   "metadata": {},
   "outputs": [],
   "source": [
    "import pandas as pd\n",
    "import os\n",
    "import gzip\n",
    "import pickle\n",
    "\n",
    "category = \"groupbuys\"\n",
    "# category = \"hardware\"\n",
    "# category = \"miners\"\n",
    "# category = \"mining\"\n",
    "# category = \"mining_support\"\n",
    "# category = \"pools\"\n",
    "\n",
    "# category = \"mining_speculation\"\n",
    "\n",
    "with gzip.open('cleaned-data/'+category+'.pkl.gz', 'rb') as f:\n",
    "    df = pickle.load(f)"
   ]
  },
  {
   "cell_type": "code",
   "execution_count": null,
   "metadata": {},
   "outputs": [],
   "source": [
    "categories = [\n",
    "    \"groupbuys\",\n",
    "    \"hardware\",\n",
    "    \"miners\",\n",
    "    \"mining\",\n",
    "    \"mining_support\",\n",
    "    \"pools\",\n",
    "    # \"mining_speculation\"\n",
    "]\n",
    "\n",
    "# total_threads = 0\n",
    "# total_chars = 0\n",
    "total_posts_global = 0\n",
    "for cat in categories:\n",
    "    with gzip.open('cleaned-data/'+cat+'.pkl.gz', 'rb') as f:\n",
    "        df_ = pickle.load(f)\n",
    "    # print(cat, \"number of threads: \", len(df))\n",
    "    # print(cat, \"average characters per threads: \", df['post'].str.len().mean())\n",
    "    # print(cat, \"median characters per threads: \", df['post'].str.len().median())\n",
    "    # print(cat, \"max characters in a thread: \", df['post'].str.len().max())\n",
    "    # print(cat, \"total characters in the category \", cat, \": \", df_['post'].str.len().sum())\n",
    "    \n",
    "    # total_threads += len(df_)\n",
    "    # total_chars += df_['post'].str.len().sum()\n",
    "\n",
    "    total_threads = 0\n",
    "    total_chars = 0\n",
    "    total_posts = 0\n",
    "    for (id,row) in df_.iterrows():\n",
    "        for post in row[\"post\"].split(\"<sep>\"):\n",
    "            total_chars += len(post)\n",
    "            total_posts += 1\n",
    "\n",
    "    # print(cat, \"average characters per post in the thread: \" , total_chars/total_posts)\n",
    "    print(\"total posts in the category\", cat, \":\", total_posts)\n",
    "    total_posts_global += total_posts\n",
    "\n",
    "\n",
    "print(\"total threads: \", total_threads)\n",
    "print(\"total characters: \", total_chars)\n",
    "print(\"total posts: \", total_posts_global)"
   ]
  },
  {
   "cell_type": "code",
   "execution_count": null,
   "metadata": {},
   "outputs": [],
   "source": [
    "#print a sample\n",
    "for (id,row) in df.tail(50).iterrows():\n",
    "    if(len(row[\"post\"]) < 100):\n",
    "        continue\n",
    "    print(\"id:\", id)\n",
    "    print(\"topic:\", row[\"topic\"])\n",
    "    print(\"posts:\")\n",
    "    for (post, date) in zip(row[\"post\"].split(\"<sep>\"), row[\"dates\"].split(\"<sep>\")):\n",
    "        # print(\"date:\", date[:10])\n",
    "        print(\"date:\", date)\n",
    "        if (post.count(\"[\") > 3) and len(post) > 1000:\n",
    "            print(\"<truncated this post as it contains a long error message>\")\n",
    "            print(post)\n",
    "        else:\n",
    "            print(post)\n",
    "        print(\"---\")\n",
    "    print(\"\\n\\n\\n\\n\\n\")"
   ]
  }
 ],
 "metadata": {
  "kernelspec": {
   "display_name": "base",
   "language": "python",
   "name": "python3"
  },
  "language_info": {
   "codemirror_mode": {
    "name": "ipython",
    "version": 3
   },
   "file_extension": ".py",
   "mimetype": "text/x-python",
   "name": "python",
   "nbconvert_exporter": "python",
   "pygments_lexer": "ipython3",
   "version": "3.9.7"
  },
  "orig_nbformat": 4
 },
 "nbformat": 4,
 "nbformat_minor": 2
}
