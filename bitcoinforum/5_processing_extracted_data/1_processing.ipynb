{
 "cells": [
  {
   "cell_type": "code",
   "execution_count": null,
   "metadata": {},
   "outputs": [],
   "source": [
    "import pandas as pd\n",
    "import os\n",
    "import gzip\n",
    "import pickle\n",
    "import openai\n",
    "import re\n",
    "import copy\n",
    "from tqdm import tqdm\n",
    "from torch import save,load\n",
    "\n",
    "concatenated_threads = pd.read_csv('../2_train_set_creation/concatenated_threads.csv')\n",
    "\n",
    "id = 0\n",
    "\n",
    "hardware_instances = []\n",
    "hardware_instances_inc_threads = []\n",
    "\n",
    "for i in range(1, 14):\n",
    "    texts = load(f'output_chunks/outputs_chunk_{i}.pt')\n",
    "    for text in texts:\n",
    "        output = text.split(\"Hardware names:\")[1]\n",
    "        try:\n",
    "            date = text.split(\"Date:\")[1].split(\"Topic:\")[0].strip()\n",
    "        except:\n",
    "            print(\"something went wrong\")\n",
    "            # print(text)\n",
    "            id+=1\n",
    "            continue\n",
    "\n",
    "        # print(\"id: \", id)\n",
    "        # print(date)\n",
    "        # print(concatenated_threads.iloc[id]['date'])\n",
    "        # print(output)\n",
    "\n",
    "        date = concatenated_threads.iloc[id]['date']\n",
    "\n",
    "        sp = output.split(\"Hardware ownership:\")\n",
    "        if len(sp) != 2:\n",
    "            print(\"something went wrong2\")\n",
    "            # print(text)\n",
    "            id+=1\n",
    "            continue\n",
    "        names = sp[0].strip()\n",
    "        ownerships = sp[1].strip()\n",
    "        for (name, ownership) in zip(names.split(\",\"), ownerships.split(\",\")):\n",
    "            n = name.strip().lower()\n",
    "            o = ownership.strip()\n",
    "            if o == \"True\":\n",
    "                hardware_instances.append((date, n))\n",
    "\n",
    "        for (name, ownership) in zip(names.split(\",\"), ownerships.split(\",\")):\n",
    "            n = name.strip().lower()\n",
    "            o = ownership.strip()\n",
    "            if o == \"True\":\n",
    "                hardware_instances_inc_threads.append((date, text))\n",
    "                break\n",
    "        \n",
    "        id+=1\n",
    "        # break\n",
    "\n",
    "    # break\n",
    "        \n",
    "df = pd.DataFrame(hardware_instances, columns=['date', 'hardware'])\n",
    "df = df.sort_values(by=['date'])\n",
    "hardware_instances"
   ]
  },
  {
   "cell_type": "code",
   "execution_count": null,
   "metadata": {},
   "outputs": [],
   "source": [
    "df.to_csv('hardware_instances.csv', index=False)"
   ]
  },
  {
   "cell_type": "code",
   "execution_count": null,
   "metadata": {},
   "outputs": [],
   "source": [
    "df = pd.DataFrame(hardware_instances_inc_threads, columns=['date', 'thread'])\n",
    "df = df.sort_values(by=['date'])\n",
    "hardware_instances_inc_threads"
   ]
  },
  {
   "cell_type": "code",
   "execution_count": null,
   "metadata": {},
   "outputs": [],
   "source": [
    "df.to_csv('hardware_instances_inc_threads.csv', index=False)"
   ]
  }
 ],
 "metadata": {
  "kernelspec": {
   "display_name": "py310",
   "language": "python",
   "name": "python3"
  },
  "language_info": {
   "codemirror_mode": {
    "name": "ipython",
    "version": 3
   },
   "file_extension": ".py",
   "mimetype": "text/x-python",
   "name": "python",
   "nbconvert_exporter": "python",
   "pygments_lexer": "ipython3",
   "version": "3.10.13"
  }
 },
 "nbformat": 4,
 "nbformat_minor": 2
}
