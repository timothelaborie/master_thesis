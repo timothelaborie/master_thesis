{
 "cells": [
  {
   "cell_type": "code",
   "execution_count": null,
   "metadata": {},
   "outputs": [],
   "source": [
    "import pandas as pd\n",
    "import os\n",
    "import gzip\n",
    "import pickle\n",
    "import openai\n",
    "import torch.nn.functional as F\n",
    "import torch\n",
    "import re\n",
    "import copy\n",
    "from tqdm import tqdm\n",
    "from openai import OpenAI\n",
    "client = OpenAI()"
   ]
  },
  {
   "cell_type": "code",
   "execution_count": null,
   "metadata": {},
   "outputs": [],
   "source": [
    "from hardware_mapping import map_hardware_to_table\n",
    "hardware_instances = pd.read_csv('hardware_instances.csv') # columns: date,hardware\n",
    "hardware_instances = hardware_instances.assign(hardware_mapped = hardware_instances[\"hardware\"].apply(map_hardware_to_table))"
   ]
  },
  {
   "cell_type": "code",
   "execution_count": null,
   "metadata": {},
   "outputs": [],
   "source": [
    "from hardware_mapping2 import map_hardware_to_table2\n",
    "# apply mapping2 where hardware_mapped is \"not found\"\n",
    "for index, row in hardware_instances.iterrows():\n",
    "    if row[\"hardware_mapped\"] == \"not found\":\n",
    "        hardware_instances.at[index, \"hardware_mapped\"] = map_hardware_to_table2(row[\"hardware\"])"
   ]
  },
  {
   "cell_type": "code",
   "execution_count": null,
   "metadata": {},
   "outputs": [],
   "source": [
    "hardware_instances.head(10)"
   ]
  },
  {
   "cell_type": "code",
   "execution_count": null,
   "metadata": {},
   "outputs": [],
   "source": [
    "len(hardware_instances)"
   ]
  },
  {
   "cell_type": "code",
   "execution_count": null,
   "metadata": {},
   "outputs": [],
   "source": [
    "efficiency = pd.read_csv('../../hardwarelist/hardware_merged.csv') # columns: hardware_name,Mhash/J\n",
    "efficiency = efficiency.rename(columns={\"hardware_name\":\"hardware_mapped\"})\n",
    "\n",
    "efficiency.head(2)"
   ]
  },
  {
   "cell_type": "code",
   "execution_count": null,
   "metadata": {},
   "outputs": [],
   "source": [
    "joined = hardware_instances.merge(efficiency, on=\"hardware_mapped\", how=\"left\")\n",
    "joined = joined.dropna(subset=[\"Mhash/J\"])\n",
    "joined.head(4)"
   ]
  },
  {
   "cell_type": "code",
   "execution_count": null,
   "metadata": {},
   "outputs": [],
   "source": [
    "print(len(joined))"
   ]
  },
  {
   "cell_type": "code",
   "execution_count": null,
   "metadata": {},
   "outputs": [],
   "source": [
    "table = joined[[\"date\",\"hardware_mapped\",\"Mhash/J\"]]\n",
    "table = table.rename(columns={\"hardware_mapped\":\"hardware_name\"})\n",
    "table[\"Mhash/J\"] = table[\"Mhash/J\"].astype(float).map(lambda x: x/1000000).map(lambda x: f\"{x:.10f}\")\n",
    "table = table.rename(columns={\"Mhash/J\":\"TH/J\"})\n",
    "table = table.sort_values([\"date\",\"hardware_name\"])\n",
    "table = table.reset_index(drop=True)\n",
    "table.head(8)"
   ]
  },
  {
   "cell_type": "code",
   "execution_count": null,
   "metadata": {},
   "outputs": [],
   "source": [
    "table.to_csv(\"hardware_instances_with_efficiency.csv\", index=False)"
   ]
  },
  {
   "cell_type": "code",
   "execution_count": null,
   "metadata": {},
   "outputs": [],
   "source": [
    "df = pd.read_csv('hardware_instances_with_efficiency.csv') # date,hardware_name,TH/J\n",
    "\n",
    "max_efficiency = pd.read_csv('../../hardwarelist/Bitcoin max updated2.csv') # rows are date,max (TH/J),archaicity (TH/J)\n",
    "\n",
    "def get_max_efficiency(date):\n",
    "    date = str(date)[:10]\n",
    "    try:\n",
    "        return max_efficiency[max_efficiency['date'] == date]['max (TH/J)'].values[0]\n",
    "    except:\n",
    "        return -1\n",
    "    \n",
    "\n",
    "# print rows where TH/J is larger than the max efficiency for that date\n",
    "df['max_efficiency'] = df['date'].apply(lambda x: get_max_efficiency(x))"
   ]
  },
  {
   "cell_type": "code",
   "execution_count": null,
   "metadata": {},
   "outputs": [],
   "source": [
    "# Convert the 'date' column to a datetime format\n",
    "df['date'] = pd.to_datetime(df['date'])\n",
    "\n",
    "# Extract year from the 'date' column and create a new column 'year'\n",
    "df['year'] = df['date'].dt.year\n",
    "df"
   ]
  },
  {
   "cell_type": "code",
   "execution_count": null,
   "metadata": {},
   "outputs": [],
   "source": [
    "df.to_csv('plotdata.csv', index=False)"
   ]
  }
 ],
 "metadata": {
  "kernelspec": {
   "display_name": "py310",
   "language": "python",
   "name": "python3"
  },
  "language_info": {
   "codemirror_mode": {
    "name": "ipython",
    "version": 3
   },
   "file_extension": ".py",
   "mimetype": "text/x-python",
   "name": "python",
   "nbconvert_exporter": "python",
   "pygments_lexer": "ipython3",
   "version": "3.10.13"
  }
 },
 "nbformat": 4,
 "nbformat_minor": 2
}
