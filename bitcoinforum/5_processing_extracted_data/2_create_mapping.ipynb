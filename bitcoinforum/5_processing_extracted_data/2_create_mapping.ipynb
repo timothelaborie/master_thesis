{
 "cells": [
  {
   "cell_type": "code",
   "execution_count": null,
   "metadata": {},
   "outputs": [],
   "source": [
    "# import builtins\n",
    "\n",
    "# # Save the original print function\n",
    "# original_print = print\n",
    "\n",
    "# # Override the print function\n",
    "# def custom_print(*args, **kwargs):\n",
    "#     new_args = []\n",
    "#     for arg in args:\n",
    "#         if isinstance(arg, float):\n",
    "#             # Customize the format here\n",
    "#             new_args.append(f'{arg:.10f}')\n",
    "#         else:\n",
    "#             new_args.append(arg)\n",
    "#     original_print(*new_args, **kwargs)\n",
    "\n",
    "# # Override the built-in print with the custom one\n",
    "# builtins.print = custom_print"
   ]
  },
  {
   "cell_type": "code",
   "execution_count": null,
   "metadata": {},
   "outputs": [],
   "source": [
    "import pandas as pd\n",
    "import os\n",
    "import gzip\n",
    "import pickle\n",
    "import openai\n",
    "import torch.nn.functional as F\n",
    "import torch\n",
    "import re\n",
    "import copy\n",
    "from tqdm import tqdm\n",
    "from openai import OpenAI\n",
    "client = OpenAI()"
   ]
  },
  {
   "cell_type": "code",
   "execution_count": null,
   "metadata": {},
   "outputs": [],
   "source": [
    "import tiktoken\n",
    "enc = tiktoken.get_encoding(\"cl100k_base\")\n",
    "# enc.encode(\"<|endoftext|>\",allowed_special={'<|endoftext|>'})\n",
    "enc.encode(\" #\")"
   ]
  },
  {
   "cell_type": "code",
   "execution_count": null,
   "metadata": {},
   "outputs": [],
   "source": [
    "def get_openai_response(prompt):\n",
    "    tokens = 4000\n",
    "    model=\"gpt-4-turbo-preview\"\n",
    "    # model=\"gpt-3.5-turbo-0125\"\n",
    "    response = client.chat.completions.create(\n",
    "        model=model,\n",
    "        messages=[\n",
    "            {\n",
    "                \"role\": \"system\",\n",
    "                \"content\": \"\"\"\n",
    "The current date is Tuesday, September 10th 2023, 10:30am\n",
    "You are a helpful assistant.\n",
    "\"\"\".strip()\n",
    "            },\n",
    "            {\n",
    "                \"role\": \"user\",\n",
    "                \"content\": prompt\n",
    "            }\n",
    "            ],\n",
    "        temperature=0,\n",
    "        max_tokens=tokens,\n",
    "        top_p=1,\n",
    "        # logit_bias={\"674\": -1.5},\n",
    "    )\n",
    "    choice = response.choices[0]\n",
    "\n",
    "    text = choice.message.content\n",
    "\n",
    "\n",
    "    return text"
   ]
  },
  {
   "cell_type": "code",
   "execution_count": null,
   "metadata": {},
   "outputs": [],
   "source": [
    "hardware_instances = pd.read_csv('hardware_instances.csv') # columns: date,hardware\n",
    "\n",
    "# add row index\n",
    "hardware_instances = hardware_instances.reset_index(drop=True)\n",
    "hardware_instances[\"row_index\"] = hardware_instances.index\n"
   ]
  },
  {
   "cell_type": "code",
   "execution_count": null,
   "metadata": {},
   "outputs": [],
   "source": [
    "unique_values = hardware_instances[\"hardware\"].value_counts().index.tolist()\n",
    "unique_values.sort()\n",
    "\n",
    "for a in unique_values:\n",
    "    print(a)"
   ]
  },
  {
   "cell_type": "code",
   "execution_count": null,
   "metadata": {},
   "outputs": [],
   "source": [
    "possible_hardware = pd.read_csv('../../hardwarelist/hardware_merged.csv')[\"hardware_name\"].sort_values().tolist()\n",
    "possible_hardware = [x.lower() for x in possible_hardware]"
   ]
  },
  {
   "cell_type": "code",
   "execution_count": null,
   "metadata": {},
   "outputs": [],
   "source": [
    "possible_hardware[:3]"
   ]
  },
  {
   "cell_type": "code",
   "execution_count": null,
   "metadata": {},
   "outputs": [],
   "source": [
    "def have_common_chunk(str1, str2):\n",
    "    # Iterate through the first string\n",
    "    for i in range(len(str1) - 1):  # Subtract 1 to avoid index out of range\n",
    "        # Extract a 2-letter chunk from the first string\n",
    "        chunk1 = str1[i:i+2]\n",
    "        \n",
    "        # Iterate through the second string\n",
    "        for j in range(len(str2) - 1):  # Subtract 1 to avoid index out of range\n",
    "            # Extract a 2-letter chunk from the second string\n",
    "            chunk2 = str2[j:j+2]\n",
    "            \n",
    "            # Compare the chunks\n",
    "            if chunk1 == chunk2:\n",
    "                return True  # Return True if a common chunk is found"
   ]
  },
  {
   "cell_type": "code",
   "execution_count": null,
   "metadata": {},
   "outputs": [],
   "source": [
    "\n",
    "chunk_length = 50\n",
    "num_chunks = len(unique_values) // chunk_length + (1 if len(unique_values) % chunk_length != 0 else 0)\n",
    "\n",
    "\n",
    "\n",
    "# Iterate through the lines chunk_length at a time\n",
    "# for i in tqdm(range(num_chunks)):\n",
    "for i in range(num_chunks):\n",
    "    \n",
    "    # Calculate start and end indices for slicing\n",
    "    start_index = i * chunk_length\n",
    "    end_index = start_index + chunk_length\n",
    "    chunk = unique_values[start_index:end_index]\n",
    "    text = \"\\n\".join(chunk).replace(\"  \",\" \")\n",
    "\n",
    "    if not text:  # Make sure the chunk is not empty\n",
    "        continue\n",
    "    # check if the file already exists\t\n",
    "    if os.path.exists(f\"mappings/hardware_mapping_{i}.txt\"):\n",
    "        continue\n",
    "\n",
    "    print(\"processing chunk\",i)\n",
    "\n",
    "    # temp_hardware_lines = \"\\n\".join(possible_hardware)\n",
    "\n",
    "    # for each hardware name, check if there is at least one string in the chunk with at least 2 letters in common\n",
    "    # temp_hardware_lines = []\n",
    "    # for hardware in possible_hardware:\n",
    "    #     for string in chunk:\n",
    "    #         if len(set(hardware).intersection(set(string))) >= 2:\n",
    "    #             temp_hardware_lines.append(hardware)\n",
    "    #             break\n",
    "\n",
    "    # for each hardware name, check if there is at least one string in the chunk with at least a 2-gram in common\n",
    "    temp_hardware_lines = []\n",
    "    for hardware in possible_hardware:\n",
    "        for string in chunk:\n",
    "            if have_common_chunk(hardware, string):\n",
    "                temp_hardware_lines.append(hardware)\n",
    "                break\n",
    "\n",
    "    print(len(temp_hardware_lines))\n",
    "    temp_hardware_lines = \"\\n\".join(temp_hardware_lines)\n",
    "\n",
    "    prompt = f\"\"\"\n",
    "User:\n",
    "\n",
    "Here is a list of hardware that is used for mining bitcoin:\n",
    "\n",
    "{temp_hardware_lines}\n",
    "\n",
    "\n",
    "\n",
    "You will be given a collection of strings. Some of them correspond to entries in the list above, while others are unrelated.\n",
    "Your task is to create a python dictionary that maps the strings from the collection to the names in the list above.\n",
    "If a string is unclear or not in the table of mining hardware, write \"unknown\" for the hardware_index value. The names don't need to match exactly.\n",
    "\n",
    "Example input:\n",
    "```\n",
    "sapphire 7950 vapor x\n",
    "1th/s s2 antminer\n",
    "1 th mining system\n",
    "bpmc \"blue fury\" 2.7 gh/s usb miner v1\n",
    "18 btc garden v2\n",
    "antminer s5\n",
    "block erupter asics\n",
    "14th s9 of nov.2017 batch\n",
    "```\n",
    "\n",
    "Example output:\n",
    "```python\n",
    "mapping = {\"{\"}\n",
    "    \"sapphire 7950 vapor x\": \"7950\",\n",
    "    \"1th/s s2 antminer\": \"antminer s2\",\n",
    "    \"1 th mining system\": \"unknown\",\n",
    "    \"bpmc \\\\\"blue fury\\\\\" 2.7 gh/s usb miner v1\": \"blue fury\",\n",
    "    \"btc garden am-v1\", # Assuming a typo or version difference, closest match.\n",
    "    \"antminer s5\": \"antminer s5\",\n",
    "    \"block erupter asics\": \"unknown\",\n",
    "    \"14th s9 of nov.2017 batch\": \"antminer s9\",\n",
    "{\"}\"}\n",
    "```\n",
    "\n",
    "It is very important that the mapping's inputs correspond exactly to the strings in the collection, including any typo that might be present in the string.\n",
    "If none of the strings match any hardware names, then write \"unknown\" for all of them.\n",
    "In the rare cases where a string can be mapped to a hardware name but the mapping is questionable, write a comment on the same line.\n",
    "\n",
    "Write the mapping for this collection of strings:\n",
    "{text}\n",
    "\n",
    "\n",
    "\n",
    "Assistant:\n",
    "Sure! Here is the mapping for the collection of strings:\n",
    "    \"\"\".strip()\n",
    "\n",
    "\n",
    "    print(prompt)\n",
    "    # print(temp_hardware_lines)\n",
    "    # print(text)\n",
    "    print(\"\\n\"*10)\n",
    "\n",
    "    response = get_openai_response(prompt)\n",
    "\n",
    "\n",
    "    print(response)\n",
    "    print(\"\\n\"*10)\n",
    "\n",
    "    # save to file\n",
    "    with open(f\"mappings/hardware_mapping_{i}.txt\", \"w\") as file:\n",
    "        file.write(response)\n",
    "\n",
    "    # break\n",
    "\n",
    "\n",
    "\n",
    "\n"
   ]
  },
  {
   "cell_type": "code",
   "execution_count": null,
   "metadata": {},
   "outputs": [],
   "source": [
    "dict_string = \"\"\n",
    "\n",
    "for (i,file) in enumerate(os.listdir(\"mappings\")):\n",
    "    dict_string += \"mapping\" + str(i) + \" = {\\n\"\n",
    "\n",
    "    content = open(f\"mappings/{file}\").read()\n",
    "\n",
    "    relevant_lines = content.split(\"```\")[1].split(\"\\n\")[2:-2]\n",
    "\n",
    "    comment = content.split(\"```\")[2].strip()\n",
    "\n",
    "    for line in relevant_lines:\n",
    "        # # check if there is a hashtag before the colon :\n",
    "        # if line.split(\":\")[0].__contains__(\"#\"):\n",
    "        #     pass\n",
    "        # else:\n",
    "        #     # if a line has no comma at the end, add it\n",
    "        #     if not line.split(\":\")[1].__contains__(\",\"):\n",
    "        #         print(line)\n",
    "        #         if line.split(\":\")[1].__contains__(\"#\"):\n",
    "        #             # add a comma before the comment\n",
    "        #             line = line.split(\":\")[0] + \": \" + line.split(\":\")[1].split(\"#\")[0].strip() + \" # \" + line.split(\"#\")[1]\n",
    "        #         else:\n",
    "        #             line = line + \",\"\n",
    "\n",
    "\n",
    "        dict_string += line + \"\\n\"\n",
    "\n",
    "    # add the comment\n",
    "    if comment != \"\":\n",
    "        dict_string = dict_string[:-1] + f\"# {comment}\\n\"\n",
    "\n",
    "    dict_string += \"}\" + \"\\n\\n\"\n",
    "\n",
    "\n",
    "code = f\"\"\"\n",
    "{dict_string}\n",
    "def map_hardware_to_table(string):\n",
    "    res = \"not found\"\n",
    "    for i in range(0, {num_chunks}):\n",
    "        if string in globals()[\"mapping\" + str(i)]:\n",
    "            res = globals()[\"mapping\" + str(i)][string]\n",
    "            break\n",
    "    return res\n",
    "\"\"\".strip()\n",
    "\n",
    "# save to file\n",
    "with open(\"hardware_mapping.py\", \"w\") as file:\n",
    "    file.write(code)"
   ]
  },
  {
   "cell_type": "code",
   "execution_count": null,
   "metadata": {},
   "outputs": [],
   "source": [
    "from hardware_mapping import map_hardware_to_table\n",
    "hardware_instances = pd.read_csv('hardware_instances.csv') # columns: date,hardware\n",
    "hardware_instances = hardware_instances.assign(hardware_mapped = hardware_instances[\"hardware\"].apply(map_hardware_to_table))"
   ]
  },
  {
   "cell_type": "markdown",
   "metadata": {},
   "source": [
    "### Cell below is only for when there's a second mapping"
   ]
  },
  {
   "cell_type": "code",
   "execution_count": null,
   "metadata": {},
   "outputs": [],
   "source": [
    "from hardware_mapping2 import map_hardware_to_table2\n",
    "# apply mapping2 where hardware_mapped is \"not found\"\n",
    "for index, row in hardware_instances.iterrows():\n",
    "    if row[\"hardware_mapped\"] == \"not found\":\n",
    "        hardware_instances.at[index, \"hardware_mapped\"] = map_hardware_to_table2(row[\"hardware\"])"
   ]
  },
  {
   "cell_type": "code",
   "execution_count": null,
   "metadata": {},
   "outputs": [],
   "source": [
    "hardware_instances.head(10)"
   ]
  },
  {
   "cell_type": "code",
   "execution_count": null,
   "metadata": {},
   "outputs": [],
   "source": [
    "len(hardware_instances)"
   ]
  },
  {
   "cell_type": "code",
   "execution_count": null,
   "metadata": {},
   "outputs": [],
   "source": [
    "efficiency = pd.read_csv('../../hardwarelist/hardware_merged.csv') # columns: hardware_name,Mhash/J\n",
    "efficiency = efficiency.rename(columns={\"hardware_name\":\"hardware_mapped\"})\n",
    "\n",
    "efficiency.head(2)"
   ]
  },
  {
   "cell_type": "code",
   "execution_count": null,
   "metadata": {},
   "outputs": [],
   "source": [
    "joined = hardware_instances.merge(efficiency, on=\"hardware_mapped\", how=\"left\")\n",
    "joined = joined.dropna(subset=[\"Mhash/J\"])\n",
    "joined.head(4)"
   ]
  },
  {
   "cell_type": "code",
   "execution_count": null,
   "metadata": {},
   "outputs": [],
   "source": [
    "print(len(joined))"
   ]
  },
  {
   "cell_type": "code",
   "execution_count": null,
   "metadata": {},
   "outputs": [],
   "source": [
    "table = joined[[\"date\",\"hardware_mapped\",\"Mhash/J\"]]\n",
    "table = table.rename(columns={\"hardware_mapped\":\"hardware_name\"})\n",
    "table[\"Mhash/J\"] = table[\"Mhash/J\"].astype(float).map(lambda x: x/1000000).map(lambda x: f\"{x:.10f}\")\n",
    "table = table.rename(columns={\"Mhash/J\":\"TH/J\"})\n",
    "table = table.sort_values([\"date\",\"hardware_name\"])\n",
    "table = table.reset_index(drop=True)\n",
    "table.head(8)"
   ]
  },
  {
   "cell_type": "code",
   "execution_count": null,
   "metadata": {},
   "outputs": [],
   "source": [
    "table.to_csv(\"hardware_instances_with_efficiency.csv\", index=False)"
   ]
  }
 ],
 "metadata": {
  "kernelspec": {
   "display_name": "base",
   "language": "python",
   "name": "python3"
  },
  "language_info": {
   "codemirror_mode": {
    "name": "ipython",
    "version": 3
   },
   "file_extension": ".py",
   "mimetype": "text/x-python",
   "name": "python",
   "nbconvert_exporter": "python",
   "pygments_lexer": "ipython3",
   "version": "3.10.13"
  },
  "vscode": {
   "interpreter": {
    "hash": "ad2bdc8ecc057115af97d19610ffacc2b4e99fae6737bb82f5d7fb13d2f2c186"
   }
  }
 },
 "nbformat": 4,
 "nbformat_minor": 2
}
