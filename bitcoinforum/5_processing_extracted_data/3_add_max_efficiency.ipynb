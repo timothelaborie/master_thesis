{
 "cells": [
  {
   "cell_type": "code",
   "execution_count": null,
   "metadata": {},
   "outputs": [],
   "source": [
    "import pandas as pd\n",
    "import numpy as np\n",
    "import os\n",
    "import gzip\n",
    "import pickle\n",
    "import re\n",
    "import copy\n",
    "from tqdm import tqdm"
   ]
  },
  {
   "cell_type": "code",
   "execution_count": null,
   "metadata": {},
   "outputs": [],
   "source": [
    "df = pd.read_csv('hardware_instances_with_efficiency.csv') # date,hardware_name,TH/J\n",
    "\n",
    "max_efficiency = pd.read_csv('../../hardwarelist/Bitcoin max updated2.csv') # rows are date,max (TH/J),archaicity (TH/J)\n",
    "\n",
    "def get_max_efficiency(date):\n",
    "    date = str(date)[:10]\n",
    "    try:\n",
    "        return max_efficiency[max_efficiency['date'] == date]['max (TH/J)'].values[0]\n",
    "    except:\n",
    "        return -1\n",
    "    \n",
    "\n",
    "# print rows where TH/J is larger than the max efficiency for that date\n",
    "df['max_efficiency'] = df['date'].apply(lambda x: get_max_efficiency(x))\n",
    "# df_bad = df[df['TH/J'] > df['max_efficiency']*1.2]\n",
    "# df_bad"
   ]
  },
  {
   "cell_type": "code",
   "execution_count": null,
   "metadata": {},
   "outputs": [],
   "source": [
    "# import pandas as pd\n",
    "\n",
    "\n",
    "# # Assuming the 'Date' column in max_efficiency_table is in a format that can be converted to datetime\n",
    "# max_efficiency['date'] = pd.to_datetime(max_efficiency['date'])\n",
    "\n",
    "# data = pd.read_csv('datasets/extracted/final3.csv')\n",
    "# data[\"date\"] = data[\"date\"].apply(lambda x: x[:10])\n",
    "# data2 = pd.read_csv('datasets/extracted/pre_2018.csv')\n",
    "# data = pd.concat([data2[[\"date\",\"row_index\",\"hardware_name\",\"TH/J\"]], data[[\"date\",\"row_index\",\"hardware_name\",\"TH/J\"]]])\n",
    "\n",
    "\n",
    "\n",
    "# # delete rows where TH/J is larger than the max efficiency for that date\n",
    "# data['max_efficiency'] = data['date'].apply(lambda x: get_max_efficiency(x))\n",
    "# data = data[data['TH/J'] <= data['max_efficiency']*1.01]\n",
    "\n",
    "# data.to_csv('datasets/extracted/merged.csv', index=False)\n",
    "\n",
    "\n",
    "\n"
   ]
  },
  {
   "cell_type": "code",
   "execution_count": null,
   "metadata": {},
   "outputs": [],
   "source": [
    "# Convert the 'date' column to a datetime format\n",
    "df['date'] = pd.to_datetime(df['date'])\n",
    "\n",
    "# Extract year from the 'date' column and create a new column 'year'\n",
    "df['year'] = df['date'].dt.year\n",
    "df"
   ]
  },
  {
   "cell_type": "code",
   "execution_count": null,
   "metadata": {},
   "outputs": [],
   "source": [
    "df.to_csv('plotdata.csv', index=False)"
   ]
  }
 ],
 "metadata": {
  "kernelspec": {
   "display_name": "py310",
   "language": "python",
   "name": "python3"
  },
  "language_info": {
   "codemirror_mode": {
    "name": "ipython",
    "version": 3
   },
   "file_extension": ".py",
   "mimetype": "text/x-python",
   "name": "python",
   "nbconvert_exporter": "python",
   "pygments_lexer": "ipython3",
   "version": "3.10.13"
  }
 },
 "nbformat": 4,
 "nbformat_minor": 2
}
