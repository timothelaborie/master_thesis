{
 "cells": [
  {
   "cell_type": "code",
   "execution_count": 1,
   "metadata": {},
   "outputs": [],
   "source": [
    "import pandas as pd\n",
    "import numpy as np\n",
    "import os\n",
    "import gzip\n",
    "import pickle\n",
    "import re\n",
    "import copy\n",
    "from tqdm import tqdm"
   ]
  },
  {
   "cell_type": "code",
   "execution_count": 10,
   "metadata": {},
   "outputs": [
    {
     "name": "stdout",
     "output_type": "stream",
     "text": [
      "('13.8 k cfm fan', 1)\n",
      "('15k cfm fan', 1)\n",
      "('3.7th/900w miner', 1)\n",
      "('3900 cpus', 1)\n",
      "('a1 chip', 1)\n",
      "('a2 based machines', 1)\n",
      "('amd ryzen threadripper processors', 1)\n",
      "('antminer s3', 1)\n",
      "('apollo miner', 1)\n",
      "('apw psu', 1)\n",
      "('asus tuf x570 gaming plus wifi system board', 1)\n",
      "('avalon 6', 1)\n",
      "('avalon a921', 1)\n",
      "('avalonminer 821 11.0 th/s 1200w bitcoin (sha-256) asic miner', 1)\n",
      "('b450 for ryzen cpus', 1)\n",
      "('b460', 1)\n",
      "('b470 for intel cpus', 1)\n",
      "('bitmain apw3+', 1)\n",
      "('bitmain s17 pro psu', 1)\n",
      "('dragon 1t', 1)\n",
      "('fan', 1)\n",
      "('futurebit apollo scrypt miner', 1)\n",
      "(\"ic's\", 1)\n",
      "('isl8225m eval board regulator', 1)\n",
      "('l3+', 1)\n",
      "('m20s', 1)\n",
      "('microsoft word', 1)\n",
      "('miner', 1)\n",
      "('motherboards with usb-c', 1)\n",
      "('pc', 1)\n",
      "('ryzen motherboards', 1)\n",
      "('s2 power supply', 1)\n",
      "('s4 coupons', 1)\n",
      "('s7', 1)\n",
      "('s7-ln miner', 1)\n",
      "('s9', 1)\n",
      "('s9i', 1)\n",
      "('usb 3.2 gen2 type-c port (10gb/s) (redriver) (supports esd protection)', 1)\n",
      "('usb hub', 1)\n",
      "('usb-c gen2 ports', 1)\n"
     ]
    },
    {
     "name": "stderr",
     "output_type": "stream",
     "text": [
      "C:\\Users\\Timothe\\AppData\\Local\\Temp\\ipykernel_38628\\2472028169.py:11: FutureWarning: Series.__getitem__ treating keys as positions is deprecated. In a future version, integer keys will always be treated as labels (consistent with DataFrame behavior). To access a value by position, use `ser.iloc[pos]`\n",
      "  pairs.append((unique_values.index[i], unique_values[i]))\n"
     ]
    }
   ],
   "source": [
    "hardware_instances = pd.read_csv('hardware_instances.csv') # columns: date,hardware\n",
    "\n",
    "# keep only values near the end of 2021\n",
    "hardware_instances = hardware_instances[hardware_instances[\"date\"] > \"2020-07-01\"]\n",
    "hardware_instances = hardware_instances[hardware_instances[\"date\"] < \"2020-12-01\"]\n",
    "\n",
    "unique_values = hardware_instances[\"hardware\"].value_counts()\n",
    "pairs = []\n",
    "for i in range(0, len(unique_values)):\n",
    "    # print(unique_values.index[i], unique_values[i])\n",
    "    pairs.append((unique_values.index[i], unique_values[i]))\n",
    "\n",
    "pairs = sorted(pairs, key=lambda x: x[0], reverse=False)\n",
    "for pair in pairs:\n",
    "    print(pair)"
   ]
  }
 ],
 "metadata": {
  "kernelspec": {
   "display_name": "py310",
   "language": "python",
   "name": "python3"
  },
  "language_info": {
   "codemirror_mode": {
    "name": "ipython",
    "version": 3
   },
   "file_extension": ".py",
   "mimetype": "text/x-python",
   "name": "python",
   "nbconvert_exporter": "python",
   "pygments_lexer": "ipython3",
   "version": "3.10.13"
  }
 },
 "nbformat": 4,
 "nbformat_minor": 2
}
