{
 "cells": [
  {
   "cell_type": "code",
   "execution_count": null,
   "metadata": {},
   "outputs": [],
   "source": [
    "import pandas as pd\n",
    "import numpy as np\n",
    "import os\n",
    "import gzip\n",
    "import pickle\n",
    "import re\n",
    "import copy\n",
    "from tqdm import tqdm\n",
    "import time"
   ]
  },
  {
   "cell_type": "code",
   "execution_count": null,
   "metadata": {},
   "outputs": [],
   "source": [
    "hardware_instances = pd.read_csv('hardware_instances.csv') # columns: date,hardware\n",
    "\n",
    "# # keep only values near the end of 2021\n",
    "# hardware_instances = hardware_instances[hardware_instances[\"date\"] > \"2020-07-01\"]\n",
    "# hardware_instances = hardware_instances[hardware_instances[\"date\"] < \"2020-11-01\"]\n",
    "\n",
    "# unique_values = hardware_instances[\"hardware\"].value_counts()\n",
    "# pairs = []\n",
    "# for i in range(0, len(unique_values)):\n",
    "#     # print(unique_values.index[i], unique_values[i])\n",
    "#     pairs.append((unique_values.index[i], unique_values[i]))\n",
    "\n",
    "# pairs = sorted(pairs, key=lambda x: x[0], reverse=False)\n",
    "# for pair in pairs:\n",
    "#     # print(pair)\n",
    "#     print(pair[0])\n",
    "\n",
    "pd.set_option('display.max_rows', None)\n",
    "\n",
    "# keep only values near the end of 2021\n",
    "hardware_instances = hardware_instances[hardware_instances[\"date\"] > \"2020-07-01\"]\n",
    "hardware_instances = hardware_instances[hardware_instances[\"date\"] < \"2020-12-01\"]\n",
    "hardware_instances[[\"date\", \"hardware\"]].to_csv(\"hardware_instances_2020_all.csv\", index=False)\n",
    "\n",
    "from hardware_mapping import map_hardware_to_table\n",
    "hardware_instances = hardware_instances.assign(hardware_mapped = hardware_instances[\"hardware\"].apply(map_hardware_to_table))\n",
    "# hardware_instances"
   ]
  },
  {
   "cell_type": "code",
   "execution_count": null,
   "metadata": {},
   "outputs": [],
   "source": [
    "hardware_instances = pd.read_csv('hardware_instances.csv') # columns: date,hardware\n",
    "hardware_instances = hardware_instances[hardware_instances[\"date\"] > \"2018-01-01\"]\n",
    "hardware_instances = hardware_instances.assign(hardware_mapped = hardware_instances[\"hardware\"].apply(map_hardware_to_table))\n",
    "\n",
    "# find most common unique values that were mapped to \"unknown\"\n",
    "unique_values = hardware_instances[hardware_instances[\"hardware_mapped\"] == \"unknown\"][\"hardware\"].value_counts()\n",
    "unique_values[:100]"
   ]
  },
  {
   "cell_type": "code",
   "execution_count": null,
   "metadata": {},
   "outputs": [],
   "source": [
    "hardware_instances = pd.read_csv('hardware_instances.csv') # columns: date,hardware\n",
    "hardware_instances = hardware_instances.assign(hardware_mapped = hardware_instances[\"hardware\"].apply(lambda x: str(x).strip()).apply(map_hardware_to_table))\n",
    "\n",
    "# print things that are \"not found\"\n",
    "unique_values = hardware_instances[hardware_instances[\"hardware_mapped\"] == \"not found\"][\"hardware\"].value_counts()\n",
    "unique_values[:10]"
   ]
  },
  {
   "cell_type": "code",
   "execution_count": null,
   "metadata": {},
   "outputs": [],
   "source": [
    "instances = pd.read_csv('hardware_instances_inc_threads.csv') # columns: date,thread\n",
    "\n",
    "\n",
    "efficiency = pd.read_csv('hardware_instances_with_efficiency.csv') # columns: date,hardware_name,TH/J\n",
    "efficiency[\"ln_efficiency\"] = np.log(efficiency[\"TH/J\"])\n",
    "# efficiency = efficiency[efficiency[\"date\"] > \"2017-10-01\"]\n",
    "# efficiency = efficiency[efficiency[\"ln_efficiency\"] < -9]\n",
    "efficiency = efficiency[efficiency[\"date\"] < \"2013-10-01\"]\n",
    "efficiency = efficiency[efficiency[\"ln_efficiency\"] > -9.5]\n",
    "\n",
    "i = 0\n",
    "for index, row in efficiency.iterrows():\n",
    "    print(row[\"date\"], row[\"hardware_name\"], row[\"TH/J\"], row[\"ln_efficiency\"])\n",
    "    filtered = instances[instances[\"date\"] == row[\"date\"]]\n",
    "    print(filtered.iloc[0][\"thread\"])\n",
    "    print(\"\\n\\n\\n\\n\\n\\n\\n\\n\\n\\n\\n\\n\")\n",
    "    if i > 5:\n",
    "        break\n",
    "    i += 1"
   ]
  }
 ],
 "metadata": {
  "kernelspec": {
   "display_name": "py310",
   "language": "python",
   "name": "python3"
  },
  "language_info": {
   "codemirror_mode": {
    "name": "ipython",
    "version": 3
   },
   "file_extension": ".py",
   "mimetype": "text/x-python",
   "name": "python",
   "nbconvert_exporter": "python",
   "pygments_lexer": "ipython3",
   "version": "3.10.13"
  }
 },
 "nbformat": 4,
 "nbformat_minor": 2
}
