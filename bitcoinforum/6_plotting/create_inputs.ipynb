{
 "cells": [
  {
   "cell_type": "code",
   "execution_count": 4,
   "metadata": {},
   "outputs": [
    {
     "name": "stdout",
     "output_type": "stream",
     "text": [
      "Merging complete. Data saved to inputs.csv.\n"
     ]
    },
    {
     "name": "stderr",
     "output_type": "stream",
     "text": [
      "C:\\Users\\Timothe\\AppData\\Local\\Temp\\ipykernel_40744\\3459691764.py:21: FutureWarning: DataFrame.fillna with 'method' is deprecated and will raise in a future version. Use obj.ffill() or obj.bfill() instead.\n",
      "  avg_efficiency = pd.merge(all_dates_df, avg_efficiency, on='date', how='left').fillna(method='ffill')\n",
      "C:\\Users\\Timothe\\AppData\\Local\\Temp\\ipykernel_40744\\3459691764.py:32: FutureWarning: Series.fillna with 'method' is deprecated and will raise in a future version. Use obj.ffill() or obj.bfill() instead.\n",
      "  merged_df['open_price'] = merged_df['open_price'].fillna(method='ffill')\n"
     ]
    }
   ],
   "source": [
    "import pandas as pd\n",
    "from datetime import datetime, timedelta\n",
    "\n",
    "# Load the datasets\n",
    "plotdata_df = pd.read_csv('../5_processing_extracted_data/plotdata.csv', usecols=['date', 'TH/J'])\n",
    "plotdata_df['date'] = pd.to_datetime(plotdata_df['date']).dt.date\n",
    "max_efficiency_df = pd.read_csv('../../hardwarelist/Bitcoin max updated2.csv', usecols=['date', 'max (TH/J)'])\n",
    "max_efficiency_df['date'] = pd.to_datetime(max_efficiency_df['date']).dt.date\n",
    "price_df = pd.read_csv('../../pricehistory/price_full.csv', usecols=['Start', 'Open'])\n",
    "price_df['Start'] = pd.to_datetime(price_df['Start']).dt.date\n",
    "\n",
    "# Process plotdata.csv to get average power efficiency per day\n",
    "avg_efficiency = plotdata_df.groupby('date')['TH/J'].mean().reset_index()\n",
    "avg_efficiency.columns = ['date', 'avg_efficiency']\n",
    "\n",
    "# Forward fill to handle days without entries\n",
    "all_dates = pd.date_range(start=avg_efficiency['date'].min(), end=avg_efficiency['date'].max(), freq='D')\n",
    "all_dates_df = pd.DataFrame(all_dates, columns=['date'])\n",
    "all_dates_df['date'] = all_dates_df['date'].dt.date  # Ensure 'date' is of type date\n",
    "\n",
    "avg_efficiency = pd.merge(all_dates_df, avg_efficiency, on='date', how='left').fillna(method='ffill')\n",
    "\n",
    "# Merge with max efficiency\n",
    "max_efficiency_df = max_efficiency_df.rename(columns={'max (TH/J)': 'max_efficiency'})\n",
    "merged_df = pd.merge(avg_efficiency, max_efficiency_df, on='date', how='left')\n",
    "\n",
    "# Merge with open price\n",
    "price_df = price_df.rename(columns={'Start': 'date', 'Open': 'open_price'})\n",
    "merged_df = pd.merge(merged_df, price_df, on='date', how='left')\n",
    "\n",
    "# Fill NaN values for open_price with the most recent non-NaN value\n",
    "merged_df['open_price'] = merged_df['open_price'].fillna(method='ffill')\n",
    "\n",
    "# Save to inputs.csv\n",
    "merged_df.to_csv('inputs.csv', index=False)\n",
    "\n",
    "print(\"Merging complete. Data saved to inputs.csv.\")"
   ]
  }
 ],
 "metadata": {
  "kernelspec": {
   "display_name": "py310",
   "language": "python",
   "name": "python3"
  },
  "language_info": {
   "codemirror_mode": {
    "name": "ipython",
    "version": 3
   },
   "file_extension": ".py",
   "mimetype": "text/x-python",
   "name": "python",
   "nbconvert_exporter": "python",
   "pygments_lexer": "ipython3",
   "version": "3.10.13"
  }
 },
 "nbformat": 4,
 "nbformat_minor": 2
}
