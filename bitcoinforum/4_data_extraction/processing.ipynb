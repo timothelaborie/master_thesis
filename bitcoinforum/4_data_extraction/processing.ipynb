{
 "cells": [
  {
   "cell_type": "code",
   "execution_count": 5,
   "metadata": {},
   "outputs": [
    {
     "name": "stdout",
     "output_type": "stream",
     "text": [
      " Avalon\n",
      "Hardware ownership: False\n",
      " Saturn, KnC Jupiter, ASIC board, 140 MM fan\n",
      "Hardware ownership: True, False, True, False\n",
      " ASICMiner USB Block Erupters, ASICMiner USB Block Blades, 30A 12V PSU, HAM radio rig, USB hub, Old 30A 12V bench supply, Molex bridging tools, ATX PSU\n",
      "Hardware ownership: False, False, True, True, True, True, False, False\n",
      " Single SC, clamp meter, kill-a-watt\n",
      "Hardware ownership: False, False, False\n",
      " Hashra Controla, gridseed 80 chip blade, 5 chiip gridseeds\n",
      "Hardware ownership: False, False, False\n",
      " S5, Antminer S5, hashboards, Miner, fan, Vent hub, PSU\n",
      "Hardware ownership: True, True, True, True, True, True, False\n",
      " S17 53TH, T17+ 58TH, S9, S17 Pro, BM1397, BM1387\n",
      "Hardware ownership: False, False, True, True, False, False\n",
      " GPU, graphics card, R9 270 X\n",
      "Hardware ownership: True, True, True\n",
      " 20GH contract, CEX, Hashfast\n",
      "Hardware ownership: True, False, False\n",
      " gribble, blockexplorer\n",
      "Hardware ownership: True, True\n",
      " hub, antminer, cgminer, zadig\n",
      "Hardware ownership: True, True, True, False\n",
      " Antminer U3, PC that has Scrypt Furys running, Laptop that has Scryt Furys running, CP210 Driver, Zadig\n",
      "Hardware ownership: True, True, True, False, False\n",
      " Avalon 741, Fan, cgminer startup script, Dryer vent tube, Ambient temp enclosure\n",
      "Hardware ownership: True, True, False, False, False\n"
     ]
    }
   ],
   "source": [
    "from torch import save,load\n",
    "\n",
    "for i in range(1, 14):\n",
    "    texts = load(f'outputs_chunk_{i}.pt')\n",
    "    for text in texts:\n",
    "        output = text.split(\"Hardware names:\")[1]\n",
    "        print(output)\n",
    "        break\n",
    "    # break"
   ]
  }
 ],
 "metadata": {
  "kernelspec": {
   "display_name": "py310",
   "language": "python",
   "name": "python3"
  },
  "language_info": {
   "codemirror_mode": {
    "name": "ipython",
    "version": 3
   },
   "file_extension": ".py",
   "mimetype": "text/x-python",
   "name": "python",
   "nbconvert_exporter": "python",
   "pygments_lexer": "ipython3",
   "version": "3.10.13"
  }
 },
 "nbformat": 4,
 "nbformat_minor": 2
}
