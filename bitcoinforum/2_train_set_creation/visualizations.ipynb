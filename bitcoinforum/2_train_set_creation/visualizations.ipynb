{
 "cells": [
  {
   "cell_type": "code",
   "execution_count": 3,
   "metadata": {},
   "outputs": [
    {
     "name": "stdout",
     "output_type": "stream",
     "text": [
      "Pandas(Index=10923, topic='Looking for a replacement psu for your 1th miners? newegg has a good one.', post=\"I have two of these in a BFL mini-rig. If I can't sell the rig I will be selling off the PSUs 2 x EVGA Supernova 1300Watt4 x EVGA Supernova 1500Watt<sep>I also have 2 Corsair 950W and a few Seasonic Gold 750 and 1250.<sep>this is old info\", date='2021-01-20 23:21:20', dates='2014-04-21 13:53:28<sep>2014-04-22 19:11:32<sep>2021-01-20 23:21:20', category='hardware', index=10923)\n"
     ]
    }
   ],
   "source": [
    "import pandas as pd\n",
    "df = pd.read_csv('concatenated_threads.csv') # topic,post,date,dates,category,index\n",
    "\n",
    "# show all posts from 2021-01-20 23:21:20\n",
    "for thing in df[df['date'] == '2021-01-20 23:21:20'].itertuples():\n",
    "    print(thing)"
   ]
  }
 ],
 "metadata": {
  "kernelspec": {
   "display_name": "py310",
   "language": "python",
   "name": "python3"
  },
  "language_info": {
   "codemirror_mode": {
    "name": "ipython",
    "version": 3
   },
   "file_extension": ".py",
   "mimetype": "text/x-python",
   "name": "python",
   "nbconvert_exporter": "python",
   "pygments_lexer": "ipython3",
   "version": "3.10.13"
  }
 },
 "nbformat": 4,
 "nbformat_minor": 2
}
