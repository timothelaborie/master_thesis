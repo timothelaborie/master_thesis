{
 "cells": [
  {
   "cell_type": "code",
   "execution_count": null,
   "metadata": {},
   "outputs": [],
   "source": [
    "import pandas as pd\n",
    "import numpy as np\n",
    "import os\n",
    "import gzip\n",
    "import pickle\n",
    "import re\n",
    "import copy\n",
    "from tqdm import tqdm\n",
    "import time\n",
    "import json\n",
    "from datetime import datetime, timedelta\n",
    "# pd.set_option('display.max_columns', 5000)\n",
    "pd.set_option('display.max_rows', 100)"
   ]
  },
  {
   "cell_type": "code",
   "execution_count": null,
   "metadata": {},
   "outputs": [],
   "source": [
    "data = pd.read_csv('../5_processing_extracted_data/plotdata.csv') # date,row_index,hardware_name,TH/J,max_efficiency,year\n",
    "\n",
    "# Convert the 'date' column to a datetime format\n",
    "data['date'] = pd.to_datetime(data['date'])\n",
    "\n",
    "# keep only data from 2011 onwards\n",
    "data = data[data['date'] >= '2011-01-02']\n",
    "\n",
    "# Create a 'month' column\n",
    "data['month'] = (data['date']).dt.to_period('M')\n",
    "\n",
    "# Group by 'month' and calculate the mean of 'TH/J'\n",
    "quarterly_data = data.groupby('month')['TH/J'].mean().reset_index()\n",
    "\n",
    "# Convert 'month' back to datetime (first day of the month)\n",
    "quarterly_data['month'] = quarterly_data['month'].dt.to_timestamp()\n",
    "\n",
    "quarterly_data.to_csv('monthly_efficiency.csv', index=False)"
   ]
  },
  {
   "cell_type": "code",
   "execution_count": null,
   "metadata": {},
   "outputs": [],
   "source": [
    "# Timestamp Graph,Intervals (Row),Network hashrate (TH/s),Bitcoins per block (BTC)\n",
    "# 02/01/2009,1,4.97E-08,50\n",
    "BitcoinData = pd.read_csv('BitcoinData.csv') \n",
    "\n",
    "df2 = pd.DataFrame(columns=['date', 'hashrate','coins_per_block'])\n",
    "\n",
    "df2['date'] = pd.to_datetime(BitcoinData['Timestamp Graph'], format='%d/%m/%Y')\n",
    "df2['hashrate'] = BitcoinData['Network hashrate (TH/s)']*1e12\n",
    "df2['coins_per_block'] = BitcoinData['Bitcoins per block (BTC)']\n",
    "\n",
    "df2 = df2.dropna()\n",
    "df2 "
   ]
  },
  {
   "cell_type": "code",
   "execution_count": null,
   "metadata": {},
   "outputs": [],
   "source": [
    "hashrate = json.load(open('hashrate.json'))\n",
    "\n",
    "# x\ty\n",
    "# 1231545600000\t1.065220e-07\n",
    "BitcoinData2 = pd.DataFrame(hashrate[\"hash-rate\"])\n",
    "BitcoinData2[\"date\"] = pd.to_datetime(BitcoinData2[\"x\"], unit='ms')\n",
    "BitcoinData2[\"hashrate\"] = BitcoinData2[\"y\"]*1e12\n",
    "BitcoinData2 = BitcoinData2.drop(columns=[\"x\", \"y\"])"
   ]
  },
  {
   "cell_type": "code",
   "execution_count": null,
   "metadata": {},
   "outputs": [],
   "source": [
    "BitcoinData2"
   ]
  },
  {
   "cell_type": "code",
   "execution_count": null,
   "metadata": {},
   "outputs": [],
   "source": [
    "temp = BitcoinData2[BitcoinData2[\"date\"] > df2[\"date\"].max()]\n",
    "temp"
   ]
  },
  {
   "cell_type": "code",
   "execution_count": null,
   "metadata": {},
   "outputs": [],
   "source": [
    "\n",
    "\n",
    "# df2 is not defined for values above 2022\n",
    "df2 = pd.concat([df2, temp])\n",
    "\n",
    "# if block is nan, it should be 6.25\n",
    "df2['coins_per_block'] = df2['coins_per_block'].fillna(6.25)"
   ]
  },
  {
   "cell_type": "code",
   "execution_count": null,
   "metadata": {},
   "outputs": [],
   "source": [
    "df2"
   ]
  },
  {
   "cell_type": "code",
   "execution_count": null,
   "metadata": {},
   "outputs": [],
   "source": [
    "# for each month in df2, get the monthly average and store it with the date being the first day of the month\n",
    "\n",
    "# Create a 'month' column\n",
    "from datetime import timedelta\n",
    "df2['month'] = (df2['date']).dt.to_period('M')\n",
    "\n",
    "# Group by 'month' and calculate the mean\n",
    "df2 = df2.groupby('month')[[\"hashrate\",\"coins_per_block\"]].mean().reset_index()\n",
    "\n",
    "# Convert 'month' back to datetime (first day of the month)\n",
    "df2['date'] = df2['month'].dt.to_timestamp()\n",
    "df2 = df2.drop(columns=[\"month\"])\n",
    "df2"
   ]
  },
  {
   "cell_type": "code",
   "execution_count": null,
   "metadata": {},
   "outputs": [],
   "source": [
    "# df2.to_csv('BitcoinData2.csv', index=False)"
   ]
  },
  {
   "cell_type": "code",
   "execution_count": null,
   "metadata": {},
   "outputs": [],
   "source": [
    "# Start,End,Open,High,Low,Close,Volume,Market Cap\n",
    "# 2024-03-08,2024-03-09,66871.2,69451.15,66398.03,68202.87,71117263448.78049,1329444482209.993\n",
    "price = pd.read_csv('../../pricehistory/price_full.csv') \n",
    "\n",
    "\n",
    "\n",
    "# Date,ln(P_max),Data monthly average,Model ln(P_eff)\n",
    "# 2011-04-01,-12.485786548332777,1.6612383008356546e-06,1.5657608695648479e-06\n",
    "efficiency = pd.read_csv('monthly_efficiency.csv') \n",
    "\n",
    "df1 = pd.DataFrame(columns=['date', 'price'])\n",
    "df3 = pd.DataFrame(columns=['date', 'efficiency'])\n",
    "\n",
    "\n",
    "df1['date'] = pd.to_datetime(price['Start'])\n",
    "df1['price'] = price['Close']\n",
    "\n",
    "df3['date'] = pd.to_datetime(efficiency['month'], format='%Y-%m-%d')\n",
    "df3['efficiency'] = efficiency['TH/J']*1e12\n",
    "\n",
    "joined = pd.merge(df1, df2, on='date', how='inner')\n",
    "joined = pd.merge(joined, df3, on='date', how='inner')\n",
    "joined = joined.dropna()"
   ]
  },
  {
   "cell_type": "code",
   "execution_count": null,
   "metadata": {},
   "outputs": [],
   "source": [
    "pd.set_option('display.max_rows', None)\n",
    "joined.sample(10)"
   ]
  },
  {
   "cell_type": "code",
   "execution_count": null,
   "metadata": {},
   "outputs": [],
   "source": [
    "# # joined[\"reward\"] = joined[\"block\"]*joined[\"price\"]\n",
    "\n",
    "# data = []\n",
    "\n",
    "# for i in range(len(joined)):\n",
    "#     date = joined['date'].iloc[i]\n",
    "#     hashrate = joined['hashrate'].iloc[i]\n",
    "#     efficiency = joined['efficiency'].iloc[i]\n",
    "#     # reward = joined['reward'].iloc[i]\n",
    "#     coins_per_block = joined['coins_per_block'].iloc[i]\n",
    "#     price_per_coin = joined['price'].iloc[i]\n",
    "\n",
    "#     aux = 2.0\n",
    "#     electricity_cost = 0.05/(1000*3600)\n",
    "#     constant = 6\n",
    "#     watts = hashrate/efficiency\n",
    "#     top = watts*aux*electricity_cost\n",
    "#     coins_per_second = coins_per_block/600\n",
    "#     bottom = constant*coins_per_second\n",
    "#     cost_per_coin = top/bottom\n",
    "\n",
    "\n",
    "\n",
    "#     joules_per_coin = watts/coins_per_block\n",
    "#     joules_per_dollar_earned = joules_per_coin/price_per_coin\n",
    "\n",
    "#     data.append([date, cost_per_coin, watts, coins_per_block, joules_per_coin,joules_per_dollar_earned])\n",
    "    \n",
    "#     # print(f\"date: {date}\")\n",
    "#     # # print(f\"hashrate: {hashrate}\")\n",
    "#     # # print(f\"efficiency: {efficiency}\")\n",
    "#     # print(f\"watts: {watts}\")\n",
    "#     # print(f\"top: {top}\")\n",
    "#     # # print(f\"reward: {reward}\")\n",
    "#     # print(f\"bottom: {bottom}\")\n",
    "#     # print(f\"cost: {cost_per_coin}\")\n",
    "#     # print(\"\\n\\n\")\n",
    "\n",
    "# df = pd.DataFrame(data, columns=['date', 'cost_per_coin', 'watts', 'coins_per_block', 'joules_per_coin','joules_per_dollar_earned'])"
   ]
  },
  {
   "cell_type": "code",
   "execution_count": null,
   "metadata": {},
   "outputs": [],
   "source": [
    "# joined = joined.drop(\"price\", axis=1)\n",
    "df = joined"
   ]
  },
  {
   "cell_type": "code",
   "execution_count": null,
   "metadata": {},
   "outputs": [],
   "source": [
    "# df['date'] = pd.to_datetime(df['date'], format='%Y-%m-%d')\n",
    "# from datetime import timedelta\n",
    "# df['avg'] = (df['date'] - timedelta(days=15)).dt.to_period('Q')\n",
    "# df.sample(10)"
   ]
  },
  {
   "cell_type": "code",
   "execution_count": null,
   "metadata": {},
   "outputs": [],
   "source": [
    "# avg_data = df.groupby('avg')['cost'].mean().reset_index()\n",
    "# avg_data"
   ]
  },
  {
   "cell_type": "code",
   "execution_count": null,
   "metadata": {},
   "outputs": [],
   "source": [
    "df['date'] = pd.to_datetime(df['date']).dt.date"
   ]
  },
  {
   "cell_type": "code",
   "execution_count": null,
   "metadata": {},
   "outputs": [],
   "source": [
    "df.sample(1)"
   ]
  },
  {
   "cell_type": "code",
   "execution_count": null,
   "metadata": {},
   "outputs": [],
   "source": [
    "max_efficiency_df = pd.read_csv('../../hardwarelist/Bitcoin max updated2.csv', usecols=['date', 'max (TH/J)'])\n",
    "max_efficiency_df['date'] = pd.to_datetime(max_efficiency_df['date']).dt.date\n",
    "# Create a 'month' column\n",
    "max_efficiency_df['month'] = pd.to_datetime(max_efficiency_df['date']).dt.to_period('M')\n",
    "# Group by 'month' and calculate the mean of 'TH/J'\n",
    "max_efficiency_df = max_efficiency_df.groupby('month')['max (TH/J)'].mean().reset_index()\n",
    "# Convert 'month' back to datetime (first day of the month)\n",
    "max_efficiency_df['date'] = max_efficiency_df['month'].dt.to_timestamp()\n",
    "max_efficiency_df = max_efficiency_df.rename(columns={'max (TH/J)': 'max_efficiency'})\n",
    "max_efficiency_df.drop(columns=[\"month\"], inplace=True)\n",
    "max_efficiency_df.tail(5)"
   ]
  },
  {
   "cell_type": "code",
   "execution_count": null,
   "metadata": {},
   "outputs": [],
   "source": [
    "general_df = pd.read_csv('../../bitcoinforum_general/5_processing_extracted_data/general.csv')\n",
    "# keep only dates after 2011\n",
    "general_df['date'] = pd.to_datetime(general_df['date']).dt.date\n",
    "general_df = general_df[general_df['date'] >= datetime(2011, 1, 1).date()]\n",
    "general_df.tail(5)"
   ]
  },
  {
   "cell_type": "code",
   "execution_count": null,
   "metadata": {},
   "outputs": [],
   "source": [
    "# Merge with max efficiency\n",
    "df['date'] = df['date'].astype(str)\n",
    "max_efficiency_df['date'] = max_efficiency_df['date'].astype(str)\n",
    "df = pd.merge(df, max_efficiency_df, on='date', how='left')\n",
    "\n",
    "# Merge with general\n",
    "# df['date'] = pd.to_datetime(df['date']).dt.date\n",
    "# general_df['date'] = pd.to_datetime(general_df['date']).dt.date\n",
    "df['date'] = df['date'].astype(str)\n",
    "general_df['date'] = general_df['date'].astype(str)\n",
    "df = pd.merge(df, general_df, on='date', how='left').fillna(method='ffill')"
   ]
  },
  {
   "cell_type": "code",
   "execution_count": null,
   "metadata": {},
   "outputs": [],
   "source": [
    "sentiment_df = pd.read_csv('../../bitcoinforum_general/5_processing_extracted_data/normalized_values_sentiment.csv')\n",
    "sentiment_df['date'] = pd.to_datetime(sentiment_df['month']).dt.date\n",
    "sentiment_df.drop(columns=[\"month\",\"strongly negative\",\"strongly positive\"], inplace=True)\n",
    "sentiment_df = sentiment_df[sentiment_df['date'] >= datetime(2011, 1, 1).date()]\n",
    "sentiment_df['date'] = sentiment_df['date'].astype(str)\n",
    "df = pd.merge(df, sentiment_df, on='date', how='left').fillna(method='ffill')"
   ]
  },
  {
   "cell_type": "code",
   "execution_count": null,
   "metadata": {},
   "outputs": [],
   "source": [
    "general_old_df = pd.read_csv('../../bitcoinforum_general/5_processing_extracted_data/general_old.csv')\n",
    "general_old_df['date'] = pd.to_datetime(general_old_df['date']).dt.date\n",
    "general_old_df = general_old_df[general_old_df['date'] >= datetime(2011, 1, 1).date()]\n",
    "general_old_df.drop(columns=[\"posts_count\",\"bitcoin_challenges\",\"bitcoin_technology\",\"bitcoin_adoption\",\"educational_resources\",\"altcoins\"], inplace=True)\n",
    "general_old_df['date'] = general_old_df['date'].astype(str)\n",
    "general_old_df.tail(5)"
   ]
  },
  {
   "cell_type": "code",
   "execution_count": null,
   "metadata": {},
   "outputs": [],
   "source": [
    "df = pd.merge(df, general_old_df, on='date', how='left').fillna(method='ffill')"
   ]
  },
  {
   "cell_type": "code",
   "execution_count": null,
   "metadata": {},
   "outputs": [],
   "source": [
    "df.to_csv('monthly_stuff.csv', index=False)"
   ]
  }
 ],
 "metadata": {
  "kernelspec": {
   "display_name": "py310",
   "language": "python",
   "name": "python3"
  },
  "language_info": {
   "codemirror_mode": {
    "name": "ipython",
    "version": 3
   },
   "file_extension": ".py",
   "mimetype": "text/x-python",
   "name": "python",
   "nbconvert_exporter": "python",
   "pygments_lexer": "ipython3",
   "version": "3.10.13"
  }
 },
 "nbformat": 4,
 "nbformat_minor": 2
}
