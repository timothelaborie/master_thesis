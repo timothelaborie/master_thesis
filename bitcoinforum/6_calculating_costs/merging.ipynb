{
 "cells": [
  {
   "cell_type": "code",
   "execution_count": 57,
   "metadata": {},
   "outputs": [],
   "source": [
    "import pandas as pd\n",
    "import numpy as np\n",
    "import os\n",
    "import gzip\n",
    "import pickle\n",
    "import re\n",
    "import copy\n",
    "from tqdm import tqdm\n",
    "import time\n",
    "import json\n",
    "from datetime import datetime, timedelta\n",
    "# pd.set_option('display.max_columns', 5000)\n",
    "pd.set_option('display.max_rows', 100)"
   ]
  },
  {
   "cell_type": "code",
   "execution_count": 58,
   "metadata": {},
   "outputs": [],
   "source": [
    "data = pd.read_csv('../5_processing_extracted_data/plotdata.csv') # date,row_index,hardware_name,TH/J,max_efficiency,year\n",
    "\n",
    "# Convert the 'date' column to a datetime format\n",
    "data['date'] = pd.to_datetime(data['date'])\n",
    "\n",
    "# keep only data from 2011 onwards\n",
    "data = data[data['date'] >= '2011-01-02']\n",
    "\n",
    "# Create a 'month' column\n",
    "data['month'] = (data['date']).dt.to_period('M')\n",
    "\n",
    "# Group by 'month' and calculate the mean of 'TH/J'\n",
    "quarterly_data = data.groupby('month')['TH/J'].mean().reset_index()\n",
    "\n",
    "# Convert 'month' back to datetime (first day of the month)\n",
    "quarterly_data['month'] = quarterly_data['month'].dt.to_timestamp()\n",
    "\n",
    "\n",
    "# monthly_efficiency contains:\n",
    "# Date,ln(P_max),Data monthly average,Model ln(P_eff)\n",
    "# 2011-04-01,-12.485786548332777,1.6612383008356546e-06,1.5657608695648479e-06\n",
    "monthly_efficiency = quarterly_data"
   ]
  },
  {
   "cell_type": "code",
   "execution_count": 59,
   "metadata": {},
   "outputs": [],
   "source": [
    "# hashrate,coins_per_block,date\n",
    "# 4318540.0,50.0,2009-01-01\n",
    "BitcoinData = pd.read_csv('./BitcoinData/BitcoinData.csv')\n",
    "BitcoinData['date'] = pd.to_datetime(BitcoinData['date'])"
   ]
  },
  {
   "cell_type": "code",
   "execution_count": 60,
   "metadata": {},
   "outputs": [],
   "source": [
    "# Start,End,Open,High,Low,Close,Volume,Market Cap\n",
    "# 2024-03-08,2024-03-09,66871.2,69451.15,66398.03,68202.87,71117263448.78049,1329444482209.993\n",
    "price = pd.read_csv('../../pricehistory/price_full.csv') \n",
    "\n",
    "\n",
    "\n",
    "df1 = pd.DataFrame(columns=['date', 'price'])\n",
    "df3 = pd.DataFrame(columns=['date', 'efficiency'])\n",
    "\n",
    "\n",
    "df1['date'] = pd.to_datetime(price['Start'])\n",
    "df1['price'] = price['Close']\n",
    "\n",
    "df3['date'] = pd.to_datetime(monthly_efficiency['month'], format='%Y-%m-%d')\n",
    "df3['efficiency'] = monthly_efficiency['TH/J']*1e12\n",
    "\n",
    "joined = pd.merge(df1, BitcoinData, on='date', how='inner')\n",
    "joined = pd.merge(joined, df3, on='date', how='inner')\n",
    "joined = joined.dropna()"
   ]
  },
  {
   "cell_type": "code",
   "execution_count": 61,
   "metadata": {},
   "outputs": [
    {
     "data": {
      "text/html": [
       "<div>\n",
       "<style scoped>\n",
       "    .dataframe tbody tr th:only-of-type {\n",
       "        vertical-align: middle;\n",
       "    }\n",
       "\n",
       "    .dataframe tbody tr th {\n",
       "        vertical-align: top;\n",
       "    }\n",
       "\n",
       "    .dataframe thead th {\n",
       "        text-align: right;\n",
       "    }\n",
       "</style>\n",
       "<table border=\"1\" class=\"dataframe\">\n",
       "  <thead>\n",
       "    <tr style=\"text-align: right;\">\n",
       "      <th></th>\n",
       "      <th>date</th>\n",
       "      <th>price</th>\n",
       "      <th>hashrate</th>\n",
       "      <th>coins_per_block</th>\n",
       "      <th>efficiency</th>\n",
       "    </tr>\n",
       "  </thead>\n",
       "  <tbody>\n",
       "    <tr>\n",
       "      <th>0</th>\n",
       "      <td>2023-12-01</td>\n",
       "      <td>38658.06</td>\n",
       "      <td>5.008642e+20</td>\n",
       "      <td>6.25</td>\n",
       "      <td>3.441260e+10</td>\n",
       "    </tr>\n",
       "    <tr>\n",
       "      <th>1</th>\n",
       "      <td>2023-10-01</td>\n",
       "      <td>27978.10</td>\n",
       "      <td>4.410675e+20</td>\n",
       "      <td>6.25</td>\n",
       "      <td>2.388003e+10</td>\n",
       "    </tr>\n",
       "    <tr>\n",
       "      <th>2</th>\n",
       "      <td>2023-09-01</td>\n",
       "      <td>25816.57</td>\n",
       "      <td>4.023850e+20</td>\n",
       "      <td>6.25</td>\n",
       "      <td>2.222254e+10</td>\n",
       "    </tr>\n",
       "  </tbody>\n",
       "</table>\n",
       "</div>"
      ],
      "text/plain": [
       "        date     price      hashrate  coins_per_block    efficiency\n",
       "0 2023-12-01  38658.06  5.008642e+20             6.25  3.441260e+10\n",
       "1 2023-10-01  27978.10  4.410675e+20             6.25  2.388003e+10\n",
       "2 2023-09-01  25816.57  4.023850e+20             6.25  2.222254e+10"
      ]
     },
     "execution_count": 61,
     "metadata": {},
     "output_type": "execute_result"
    }
   ],
   "source": [
    "pd.set_option('display.max_rows', None)\n",
    "joined.head(3)"
   ]
  },
  {
   "cell_type": "code",
   "execution_count": 62,
   "metadata": {},
   "outputs": [],
   "source": [
    "df = joined"
   ]
  },
  {
   "cell_type": "code",
   "execution_count": 63,
   "metadata": {},
   "outputs": [
    {
     "data": {
      "text/html": [
       "<div>\n",
       "<style scoped>\n",
       "    .dataframe tbody tr th:only-of-type {\n",
       "        vertical-align: middle;\n",
       "    }\n",
       "\n",
       "    .dataframe tbody tr th {\n",
       "        vertical-align: top;\n",
       "    }\n",
       "\n",
       "    .dataframe thead th {\n",
       "        text-align: right;\n",
       "    }\n",
       "</style>\n",
       "<table border=\"1\" class=\"dataframe\">\n",
       "  <thead>\n",
       "    <tr style=\"text-align: right;\">\n",
       "      <th></th>\n",
       "      <th>date</th>\n",
       "      <th>price</th>\n",
       "      <th>hashrate</th>\n",
       "      <th>coins_per_block</th>\n",
       "      <th>efficiency</th>\n",
       "    </tr>\n",
       "  </thead>\n",
       "  <tbody>\n",
       "    <tr>\n",
       "      <th>0</th>\n",
       "      <td>2023-12-01</td>\n",
       "      <td>38658.06</td>\n",
       "      <td>5.008642e+20</td>\n",
       "      <td>6.25</td>\n",
       "      <td>3.441260e+10</td>\n",
       "    </tr>\n",
       "    <tr>\n",
       "      <th>1</th>\n",
       "      <td>2023-10-01</td>\n",
       "      <td>27978.10</td>\n",
       "      <td>4.410675e+20</td>\n",
       "      <td>6.25</td>\n",
       "      <td>2.388003e+10</td>\n",
       "    </tr>\n",
       "    <tr>\n",
       "      <th>2</th>\n",
       "      <td>2023-09-01</td>\n",
       "      <td>25816.57</td>\n",
       "      <td>4.023850e+20</td>\n",
       "      <td>6.25</td>\n",
       "      <td>2.222254e+10</td>\n",
       "    </tr>\n",
       "  </tbody>\n",
       "</table>\n",
       "</div>"
      ],
      "text/plain": [
       "         date     price      hashrate  coins_per_block    efficiency\n",
       "0  2023-12-01  38658.06  5.008642e+20             6.25  3.441260e+10\n",
       "1  2023-10-01  27978.10  4.410675e+20             6.25  2.388003e+10\n",
       "2  2023-09-01  25816.57  4.023850e+20             6.25  2.222254e+10"
      ]
     },
     "execution_count": 63,
     "metadata": {},
     "output_type": "execute_result"
    }
   ],
   "source": [
    "df['date'] = pd.to_datetime(df['date']).dt.date\n",
    "df.head(3)"
   ]
  },
  {
   "cell_type": "code",
   "execution_count": 64,
   "metadata": {},
   "outputs": [
    {
     "data": {
      "text/html": [
       "<div>\n",
       "<style scoped>\n",
       "    .dataframe tbody tr th:only-of-type {\n",
       "        vertical-align: middle;\n",
       "    }\n",
       "\n",
       "    .dataframe tbody tr th {\n",
       "        vertical-align: top;\n",
       "    }\n",
       "\n",
       "    .dataframe thead th {\n",
       "        text-align: right;\n",
       "    }\n",
       "</style>\n",
       "<table border=\"1\" class=\"dataframe\">\n",
       "  <thead>\n",
       "    <tr style=\"text-align: right;\">\n",
       "      <th></th>\n",
       "      <th>max_efficiency</th>\n",
       "      <th>date</th>\n",
       "    </tr>\n",
       "  </thead>\n",
       "  <tbody>\n",
       "    <tr>\n",
       "      <th>164</th>\n",
       "      <td>0.0465</td>\n",
       "      <td>2022-09-01</td>\n",
       "    </tr>\n",
       "    <tr>\n",
       "      <th>165</th>\n",
       "      <td>0.0465</td>\n",
       "      <td>2022-10-01</td>\n",
       "    </tr>\n",
       "    <tr>\n",
       "      <th>166</th>\n",
       "      <td>0.0465</td>\n",
       "      <td>2022-11-01</td>\n",
       "    </tr>\n",
       "    <tr>\n",
       "      <th>167</th>\n",
       "      <td>0.0465</td>\n",
       "      <td>2022-12-01</td>\n",
       "    </tr>\n",
       "    <tr>\n",
       "      <th>168</th>\n",
       "      <td>0.0465</td>\n",
       "      <td>2023-01-01</td>\n",
       "    </tr>\n",
       "  </tbody>\n",
       "</table>\n",
       "</div>"
      ],
      "text/plain": [
       "     max_efficiency       date\n",
       "164          0.0465 2022-09-01\n",
       "165          0.0465 2022-10-01\n",
       "166          0.0465 2022-11-01\n",
       "167          0.0465 2022-12-01\n",
       "168          0.0465 2023-01-01"
      ]
     },
     "execution_count": 64,
     "metadata": {},
     "output_type": "execute_result"
    }
   ],
   "source": [
    "max_efficiency_df = pd.read_csv('../../hardwarelist/Bitcoin max updated2.csv', usecols=['date', 'max (TH/J)'])\n",
    "max_efficiency_df['date'] = pd.to_datetime(max_efficiency_df['date']).dt.date\n",
    "# Create a 'month' column\n",
    "max_efficiency_df['month'] = pd.to_datetime(max_efficiency_df['date']).dt.to_period('M')\n",
    "# Group by 'month' and calculate the mean of 'TH/J'\n",
    "max_efficiency_df = max_efficiency_df.groupby('month')['max (TH/J)'].mean().reset_index()\n",
    "# Convert 'month' back to datetime (first day of the month)\n",
    "max_efficiency_df['date'] = max_efficiency_df['month'].dt.to_timestamp()\n",
    "max_efficiency_df = max_efficiency_df.rename(columns={'max (TH/J)': 'max_efficiency'})\n",
    "max_efficiency_df.drop(columns=[\"month\"], inplace=True)\n",
    "max_efficiency_df.tail(5)"
   ]
  },
  {
   "cell_type": "code",
   "execution_count": 65,
   "metadata": {},
   "outputs": [],
   "source": [
    "# Merge with max efficiency\n",
    "df['date'] = df['date'].astype(str)\n",
    "max_efficiency_df['date'] = max_efficiency_df['date'].astype(str)\n",
    "df = pd.merge(df, max_efficiency_df, on='date', how='left')"
   ]
  },
  {
   "cell_type": "code",
   "execution_count": 66,
   "metadata": {},
   "outputs": [],
   "source": [
    "# Convert dates to end of the month\n",
    "df['date'] = pd.to_datetime(df['date']) + pd.offsets.MonthEnd(0)"
   ]
  },
  {
   "cell_type": "code",
   "execution_count": 67,
   "metadata": {},
   "outputs": [],
   "source": [
    "df.to_csv('monthly_stuff.csv', index=False)"
   ]
  },
  {
   "cell_type": "code",
   "execution_count": 68,
   "metadata": {},
   "outputs": [],
   "source": [
    "# import pandas as pd\n",
    "# pd.set_option('display.max_rows', 5000)\n",
    "# df = pd.read_csv('monthly_stuff.csv')\n",
    "# df[\"efficiency\"] = df[\"efficiency\"]/1e12\n",
    "# df = df[[\"date\",\"efficiency\",\"max_efficiency\"]]\n",
    "# # backward fill max efficiency\n",
    "# df['max_efficiency'] = df['max_efficiency'].fillna(method='bfill')\n",
    "# df.to_csv('monthly_efficiency.csv', index=False)"
   ]
  }
 ],
 "metadata": {
  "kernelspec": {
   "display_name": "py310",
   "language": "python",
   "name": "python3"
  },
  "language_info": {
   "codemirror_mode": {
    "name": "ipython",
    "version": 3
   },
   "file_extension": ".py",
   "mimetype": "text/x-python",
   "name": "python",
   "nbconvert_exporter": "python",
   "pygments_lexer": "ipython3",
   "version": "3.10.13"
  }
 },
 "nbformat": 4,
 "nbformat_minor": 2
}
