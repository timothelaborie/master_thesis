{
 "cells": [
  {
   "cell_type": "code",
   "execution_count": null,
   "metadata": {},
   "outputs": [],
   "source": [
    "# electricity_cost = np.array([0.03, 0.15]) / (1000*3600)\n",
    "# aux_cost = np.array([1,2])\n",
    "\n",
    "\n",
    "# cost_per_dollar = [joules_per_dollar * e * a for (e,a) in zip(electricity_cost, aux_cost)]\n",
    "# cost_per_dollar = [x.rename(columns={'joules_per_dollar': 'cost_per_dollar'}) for x in cost_per_dollar]\n",
    "# cost_per_dollar\n",
    "\n",
    "# profit_per_dollar = [1-c for c in cost_per_dollar]\n",
    "# profit_per_dollar = [x.rename(columns={'cost_per_dollar': f'profit_per_dollar_{i}'}) for i,x in zip([\"best\",\"worst\"],profit_per_dollar)]\n",
    "# profit_per_dollar = pd.concat(profit_per_dollar, axis=1)\n",
    "# #reverse the rows\n",
    "# profit_per_dollar = profit_per_dollar.iloc[::-1]\n",
    "# profit_per_dollar\n",
    "\n",
    "# fig, ax = plt.subplots()\n",
    "# profit_per_dollar.plot(ax=ax)\n",
    "# log_price_normalized.plot(ax=ax, linestyle='--', alpha=0.5, label='log_price_normalized')\n",
    "\n",
    "# # Add vertical lines for halving events\n",
    "# for (i,date) in enumerate(halving_dates['date']):\n",
    "#     if i == 0:\n",
    "#         ax.axvline(x=date, color='red', linestyle='--', alpha=0.7, label='halving')\n",
    "#     else:\n",
    "#         ax.axvline(x=date, color='red', linestyle='--', alpha=0.7)\n",
    "\n",
    "# ax.set_ylim(0,1)\n",
    "# # plt.xticks(np.arange(0, len(profit_per_dollar), 12), [str(x)[:4] for x in profit_per_dollar.index[::12]])\n",
    "# plt.xticks(rotation=30)\n",
    "# plt.legend()\n",
    "# plt.show()"
   ]
  }
 ],
 "metadata": {
  "language_info": {
   "name": "python"
  }
 },
 "nbformat": 4,
 "nbformat_minor": 2
}
