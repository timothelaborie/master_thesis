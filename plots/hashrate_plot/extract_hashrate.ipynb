{
 "cells": [
  {
   "cell_type": "code",
   "execution_count": 1,
   "metadata": {},
   "outputs": [],
   "source": [
    "import pandas as pd\n",
    "import numpy as np\n",
    "import matplotlib.pyplot as plt\n",
    "from math import sqrt\n",
    "import matplotlib as mpl\n",
    "from datetime import timedelta"
   ]
  },
  {
   "cell_type": "code",
   "execution_count": 2,
   "metadata": {},
   "outputs": [],
   "source": [
    "df_data2 = pd.read_excel('Bitcoin Paper Datasheet.xlsx', engine='openpyxl', sheet_name='Turning Point')\n",
    "df_hashrate, df_date2 = df_data2['Hashrate (TH/s)'].dropna(), df_data2['Date'].dropna()\n",
    "df_combined = pd.concat([df_date2, df_hashrate], axis=1).dropna()\n",
    "df_combined.to_csv('hashrate.csv', index=False)"
   ]
  }
 ],
 "metadata": {
  "kernelspec": {
   "display_name": "py310",
   "language": "python",
   "name": "python3"
  },
  "language_info": {
   "codemirror_mode": {
    "name": "ipython",
    "version": 3
   },
   "file_extension": ".py",
   "mimetype": "text/x-python",
   "name": "python",
   "nbconvert_exporter": "python",
   "pygments_lexer": "ipython3",
   "version": "3.10.13"
  }
 },
 "nbformat": 4,
 "nbformat_minor": 2
}
