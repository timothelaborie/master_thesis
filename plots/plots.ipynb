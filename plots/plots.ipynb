{
 "cells": [
  {
   "cell_type": "code",
   "execution_count": null,
   "metadata": {},
   "outputs": [],
   "source": [
    "# import builtins\n",
    "# original_print = print\n",
    "# def custom_print(*args, **kwargs):\n",
    "#     new_args = []\n",
    "#     for arg in args:\n",
    "#         if isinstance(arg, float):\n",
    "#             new_args.append(f'{arg:.10f}')\n",
    "#         else:\n",
    "#             new_args.append(arg)\n",
    "#     original_print(*new_args, **kwargs)\n",
    "# builtins.print = custom_print"
   ]
  },
  {
   "cell_type": "code",
   "execution_count": null,
   "metadata": {},
   "outputs": [],
   "source": [
    "import pandas as pd\n",
    "import numpy as np\n",
    "import matplotlib.pyplot as plt\n",
    "import warnings\n",
    "import statsmodels.api as sm\n",
    "from statsmodels.tsa.arima.model import ARIMA\n",
    "from datetime import timedelta\n",
    "warnings.filterwarnings('ignore')\n",
    "from statsmodels.tsa.stattools import adfuller\n",
    "from statsmodels.stats.diagnostic import acorr_ljungbox\n",
    "import seaborn as sns\n",
    "from scipy.stats import gaussian_kde\n",
    "from datetime import datetime, timedelta\n",
    "\n",
    "plt.rcParams['figure.constrained_layout.use'] = True"
   ]
  },
  {
   "cell_type": "code",
   "execution_count": null,
   "metadata": {},
   "outputs": [],
   "source": [
    "# Define the variable name for the unit power efficiency column\n",
    "unit_power_efficiency = 'TH/J'\n",
    "\n",
    "data = pd.read_csv('../bitcoinforum/5_processing_extracted_data/hardware_instances_with_efficiency.csv') # date,row_index,hardware_name,TH/J\n",
    "\n",
    "# Convert the 'date' column to a datetime format\n",
    "data['date'] = pd.to_datetime(data['date'])\n",
    "\n",
    "# keep only data from 2011 onwards\n",
    "data = data[data['date'] >= '2011-01-05']\n",
    "data"
   ]
  },
  {
   "cell_type": "code",
   "execution_count": null,
   "metadata": {},
   "outputs": [],
   "source": [
    "# Step 1: Average the data points on a quarterly basis\n",
    "# Ensure that 'TH/J' is a numeric type\n",
    "data['TH/J'] = pd.to_numeric(data['TH/J'], errors='coerce')\n",
    "\n",
    "# Create a 'quarter' column by offsetting the 'date' by 15 days and then using to_period\n",
    "data['quarter'] = (data['date'] - timedelta(days=45)).dt.to_period('Q')\n",
    "# data['quarter'] = (data['date'] - timedelta(days=0)).dt.to_period('Q')\n",
    "data"
   ]
  },
  {
   "cell_type": "code",
   "execution_count": null,
   "metadata": {},
   "outputs": [],
   "source": [
    "# Group by 'quarter' and calculate the mean of 'TH/J'\n",
    "quarterly_data = data.groupby('quarter')['TH/J'].mean().reset_index()\n",
    "\n",
    "# Convert 'quarter' back to datetime (last day of the quarter)\n",
    "quarterly_data['quarter'] = quarterly_data['quarter'].dt.to_timestamp(freq='Q')\n",
    "# # Convert 'quarter' back to datetime (first day of the quarter)\n",
    "# quarterly_data['quarter'] = quarterly_data['quarter'].dt.to_timestamp()\n",
    "quarterly_data.head(3)"
   ]
  },
  {
   "cell_type": "code",
   "execution_count": null,
   "metadata": {},
   "outputs": [],
   "source": [
    "# add a 2011-01-01 row to the quarterly_data and copy the first row to it\n",
    "# create timestamp for 2011-01-01\n",
    "ts = pd.Timestamp('2011-01-01')\n",
    "quarterly_data.loc[-1] = [ts, quarterly_data['TH/J'][0]]\n",
    "quarterly_data.index = quarterly_data.index + 1\n",
    "quarterly_data = quarterly_data.sort_index()\n",
    "quarterly_data"
   ]
  },
  {
   "cell_type": "code",
   "execution_count": null,
   "metadata": {},
   "outputs": [],
   "source": [
    "\n",
    "# obtain monthly data\n",
    "data['month'] = data['date'].dt.to_period('M')\n",
    "monthly_data = data.groupby('month')['TH/J'].mean().reset_index()\n",
    "monthly_data['month'] = monthly_data['month'].dt.to_timestamp()\n"
   ]
  },
  {
   "cell_type": "code",
   "execution_count": null,
   "metadata": {},
   "outputs": [],
   "source": [
    "\n",
    "dpi = 110\n",
    "\n",
    "\n",
    "# unit = \"TH/J\"\n",
    "unit = \"H/J\"\n",
    "# func = \"ln\"\n",
    "func = \"log10\"\n",
    "def process(x,apply_multiplier=False):\n",
    "    multi = 1e12 if unit == \"H/J\" else 1\n",
    "    if apply_multiplier == False:\n",
    "        multi = 1\n",
    "    if func == \"ln\":\n",
    "        return np.log(x*multi)\n",
    "    if func == \"log10\":\n",
    "        return np.log10(x*multi)"
   ]
  },
  {
   "cell_type": "code",
   "execution_count": null,
   "metadata": {},
   "outputs": [],
   "source": [
    "process(data[unit_power_efficiency])"
   ]
  },
  {
   "cell_type": "code",
   "execution_count": null,
   "metadata": {},
   "outputs": [],
   "source": [
    "gray_scatter_x = data['date'] # looks like 2011-02-19 09:38:19\n",
    "gray_scatter_y = process(data[unit_power_efficiency],apply_multiplier=True) # looks like 6.302179\n",
    "\n",
    "red_scatter_x = quarterly_data['quarter'] # looks like 2011-01-01\n",
    "red_scatter_y = process(quarterly_data['TH/J'],apply_multiplier=True) # looks like 6.217607 (average of that time period)\n",
    "\n",
    "lime_scatter_x = monthly_data['month'] # looks like 2011-01-01\n",
    "lime_scatter_y = process(monthly_data['TH/J'],apply_multiplier=True) # looks like 6.217607 (average of that time period)\n",
    "\n",
    "# Load the data for the maximum efficiency for all dates\n",
    "max_efficiency_table = pd.read_csv('../hardwarelist/pmaxv3.csv')\n",
    "max_efficiency_table['date'] = pd.to_datetime(max_efficiency_table['date'])\n",
    "max_plot_x = max_efficiency_table['date']\n",
    "max_plot_y = process(max_efficiency_table['max_efficiency']*1e-12,apply_multiplier=True)"
   ]
  },
  {
   "cell_type": "code",
   "execution_count": null,
   "metadata": {},
   "outputs": [],
   "source": [
    "monthly_price_joules = pd.read_csv('../bitcoinforum/6_merging/monthly_stuff.csv') # date,price,hashrate,coins_per_block,efficiency,max_efficiency\n",
    "monthly_price_joules[\"real_joules_per_coin\"] = monthly_price_joules[\"hashrate\"] / (monthly_price_joules[\"efficiency\"] * monthly_price_joules[\"coins_per_block\"])\n",
    "\n",
    "price_plot_x = pd.to_datetime(monthly_price_joules['date'])\n",
    "price_plot_y = process(monthly_price_joules['price'])\n",
    "\n",
    "joules_plot_x = pd.to_datetime(monthly_price_joules['date'])\n",
    "joules_plot_y = process(monthly_price_joules['real_joules_per_coin'])\n",
    "\n",
    "\n",
    "\n",
    "price_offset = 0\n",
    "price_plot_y = price_plot_y + price_offset\n",
    "\n",
    "joules_offset = 0\n",
    "joules_plot_y = joules_plot_y + joules_offset\n",
    "\n",
    "time_to_double = 2.6\n",
    "# koomey's law: after 2018, the efficiency doubles every 2.6 years\n",
    "first_2018_efficiency = quarterly_data[quarterly_data['quarter'] == '2017-12-31']['TH/J'].values[0] # 2018-01-01\n",
    "koomey_preds_efficiency = []\n",
    "for i in range(4*(2024-2018)+1):\n",
    "    koomey_preds_efficiency.append(first_2018_efficiency * 2**((i/4)/time_to_double))\n",
    "koomey_preds_efficiency = np.array(koomey_preds_efficiency)\n",
    "koomey_preds_efficiency = process(koomey_preds_efficiency,apply_multiplier=True)\n",
    "koomey_preds_x = pd.date_range(start='2018-01-01', periods=len(koomey_preds_efficiency), freq='Q')\n",
    "\n",
    "# koomey's law for joules:\n",
    "first_2018_joules = monthly_price_joules[monthly_price_joules['date'] == '2017-12-31']['real_joules_per_coin'].values[0]\n",
    "koomey_preds_joules = []\n",
    "for i in range(12*(2024-2018)+1):\n",
    "    koomey_preds_joules.append(first_2018_joules * 2**((i/12)/time_to_double))\n",
    "koomey_preds_joules = np.array(koomey_preds_joules)\n",
    "koomey_preds_joules = process(koomey_preds_joules)\n",
    "koomey_preds_joules_x = pd.date_range(start='2018-01-01', periods=len(koomey_preds_joules), freq='M')\n",
    "\n",
    "# koomey's law for price:\n",
    "first_2018_price = monthly_price_joules[monthly_price_joules['date'] == '2017-12-31']['price'].values[0]\n",
    "koomey_preds_price = []\n",
    "for i in range(12*(2024-2018)+1):\n",
    "    koomey_preds_price.append(first_2018_price * 2**((i/12)/time_to_double))\n",
    "koomey_preds_price = np.array(koomey_preds_price)\n",
    "koomey_preds_price = process(koomey_preds_price)\n",
    "koomey_preds_price_x = pd.date_range(start='2018-01-01', periods=len(koomey_preds_price), freq='M')\n"
   ]
  },
  {
   "cell_type": "code",
   "execution_count": null,
   "metadata": {},
   "outputs": [],
   "source": [
    "yearly_counts = gray_scatter_x.dt.year.value_counts().sort_index()\n",
    "print(yearly_counts.mean(),yearly_counts.std())\n",
    "# export to latex\n",
    "print(yearly_counts.to_frame().T.to_latex())"
   ]
  },
  {
   "cell_type": "code",
   "execution_count": null,
   "metadata": {},
   "outputs": [],
   "source": [
    "# plt.rcParams[\"text.usetex\"] =  True"
   ]
  },
  {
   "cell_type": "code",
   "execution_count": null,
   "metadata": {},
   "outputs": [],
   "source": [
    "\n",
    "plt.rcParams['font.family'] = 'Times New Roman'\n",
    "\n",
    "plt.rcParams.update({'font.size': 15})\n",
    "\n",
    "koomey_extra = \" starting 2018\"\n",
    "koomey_extra = \"\"\n",
    "\n",
    "# Step 4: Plot single point for each quarter + all the data points using the best model\n",
    "plt.figure(figsize=(12, 8), dpi=dpi)\n",
    "plt.scatter(gray_scatter_x, gray_scatter_y, c='gray', s=5, label='BitcoinTalk.org data collected with LLM', alpha=0.5)\n",
    "plt.scatter(lime_scatter_x, lime_scatter_y, c='lime', s=50, label=f'Data monthly averaged {func}({unit})', alpha=0.5)\n",
    "plt.scatter(red_scatter_x, red_scatter_y, c='red', s=50, label=f'Data quarterly averaged {func}({unit})', alpha=0.5)\n",
    "plt.plot(max_plot_x, max_plot_y, color='gray', label=func+'($P_{max}$)', linewidth=2)\n",
    "plt.plot(price_plot_x, price_plot_y, color='blue', label=func+'(Price)'+(\"\" if price_offset == 0 else str(price_offset)), linewidth=2)\n",
    "plt.plot(joules_plot_x, joules_plot_y, color='green', label=func+'(Joules per coin)'+(\"\" if joules_offset == 0 else str(joules_offset)), linewidth=2)\n",
    "plt.plot(koomey_preds_x, koomey_preds_efficiency, color='purple', label='Koomey\\'s Law for efficiency' + koomey_extra, linewidth=2)\n",
    "plt.plot(koomey_preds_joules_x, koomey_preds_joules, color='orange', label='Koomey\\'s Law applied to joules per coin' + koomey_extra, linewidth=2)\n",
    "plt.plot(koomey_preds_price_x, koomey_preds_price, color='brown', label='Koomey\\'s Law applied to price' + koomey_extra, linewidth=2)\n",
    "# plt.plot(quarterly_data['quarter'][1:], np.log(best_model_fit.fittedvalues[1:]), label='Model: ln($\\hat{P}_{eff}$)', linestyle='--')\n",
    "plt.xlabel('Time')\n",
    "plt.ylabel(func+'($\\hat{P}_{eff}$) (' + unit + ') for efficiency. price and joules are ' + func + '(\\$ or J)')\n",
    "plt.yscale('linear')\n",
    "# put legend in bottom right\n",
    "plt.legend(loc='lower right')\n",
    "plt.grid(which='major', linestyle='-', linewidth='0.5', color='black')\n",
    "plt.grid(which='minor', linestyle=':', linewidth='0.5', color='black')\n",
    "plt.minorticks_on()\n",
    "# Start the x axis at 2011\n",
    "plt.xlim(pd.Timestamp('2010-11-01'), pd.Timestamp('2024-01-01'))\n",
    "# Start the y axis at -1\n",
    "plt.ylim(-4, 11)\n",
    "\n",
    "props = dict(boxstyle='round', facecolor='wheat', alpha=0.5)\n",
    "# Adjust the position of the box to be next to the plot\n",
    "plt.savefig('pdfs/data_plot.pdf', format='pdf', bbox_inches='tight')\n",
    "plt.show()\n"
   ]
  },
  {
   "cell_type": "code",
   "execution_count": null,
   "metadata": {},
   "outputs": [],
   "source": [
    "plt.tight_layout()\n",
    "def plot_efficiency_comparison(ax):\n",
    "    plt.rcParams['figure.facecolor'] = 'white'\n",
    "    plt.rcParams['mathtext.fontset'] = 'stix'\n",
    "\n",
    "\n",
    "    # Plot efficiency and max efficiency\n",
    "    ax.plot(red_scatter_x, red_scatter_y, label='Empirical average', color='blue', linewidth=0.8)\n",
    "    ax.plot(max_plot_x, max_plot_y, label='Maximum attainable', color='black', linewidth=0.8, linestyle='--')\n",
    "\n",
    "\n",
    "    # Fill the area, Interpolate red_scatter_y to match the length of max_plot_x\n",
    "    interp2 = np.interp(max_plot_x, red_scatter_x, red_scatter_y)\n",
    "    ax.fill_between(max_plot_x, max_plot_y, interp2, interpolate=True, color='lightblue', alpha=0.5)\n",
    "\n",
    "\n",
    "\n",
    "    # Set x-ticks to every year and format them to include \"01.01.\"\n",
    "    start = pd.Timestamp('2010-12-31 00:00:00')\n",
    "    end = pd.Timestamp('2024-01-31 00:00:00')\n",
    "    years = pd.date_range(start=start, end=end, freq='YS')\n",
    "    ax.set_xticks(years)\n",
    "    ax.set_xticklabels([f\"{year.year}\" for year in years], rotation=30)\n",
    "    # set xlim\n",
    "    ax.set_xlim(start, end)\n",
    "\n",
    "    # Set y-axis label and format y-ticks to display as 10^x\n",
    "    ax.set_ylabel('Power efficiency (TH/J)', rotation='vertical')\n",
    "    ax.get_yaxis().set_major_formatter(plt.FuncFormatter(lambda x, _: \"$10^{\" + str(x-12).replace(\".0\",\"\") + \"}$\")) #.rstrip(\".0\")\n",
    "\n",
    "    # Set font to Times New Roman\n",
    "    plt.rcParams['font.family'] = 'Times New Roman'\n",
    "\n",
    "    # Make the font larger\n",
    "    fs = 15\n",
    "    plt.rcParams.update({'font.size': fs})\n",
    "\n",
    "    # Increase DPI\n",
    "    plt.rcParams.update({'figure.dpi': 100})\n",
    "\n",
    "    # Rotate x-ticks\n",
    "    plt.xticks(rotation=30)\n",
    "\n",
    "    # Add a grid\n",
    "    # Add more gridlines\n",
    "    ax.grid(which='major', color='#DDDDDD', linewidth=0.8)\n",
    "    ax.grid(which='minor', color='#DDDDDD', linestyle=':', linewidth=0.8)\n",
    "    ax.minorticks_on()\n",
    "\n",
    "    # ax.legend(loc='upper center', bbox_to_anchor=(0.5, 1.15), ncol=len(colors) + 2, fancybox=True, shadow=True)\n",
    "    # ax.legend(loc='upper left', bbox_to_anchor=(0, 0.9), ncol=1, fancybox=True, shadow=True)\n",
    "    ax.legend()\n",
    "\n",
    "\n",
    "\n",
    "plt.rcParams['figure.facecolor'] = 'white'\n",
    "fig, ax = plt.subplots(figsize=(12, 6))\n",
    "plot_efficiency_comparison(ax)\n",
    "plt.savefig('pdfs/efficiencycomparison_wide.pdf', format='pdf', bbox_inches='tight')\n",
    "plt.show()\n",
    "fig, ax = plt.subplots(figsize=(6, 6))\n",
    "plot_efficiency_comparison(ax)\n",
    "plt.savefig('pdfs/efficiencycomparison_thin.pdf', format='pdf', bbox_inches='tight')\n",
    "plt.show()"
   ]
  },
  {
   "cell_type": "markdown",
   "metadata": {},
   "source": [
    "# stuff below is not used"
   ]
  },
  {
   "cell_type": "code",
   "execution_count": null,
   "metadata": {},
   "outputs": [],
   "source": [
    "red_scatter_y"
   ]
  },
  {
   "cell_type": "code",
   "execution_count": null,
   "metadata": {},
   "outputs": [],
   "source": [
    "max_plot_y"
   ]
  },
  {
   "cell_type": "code",
   "execution_count": null,
   "metadata": {},
   "outputs": [],
   "source": [
    "price_plot_x"
   ]
  },
  {
   "cell_type": "code",
   "execution_count": null,
   "metadata": {},
   "outputs": [],
   "source": [
    "quarterly_dates = red_scatter_x\n",
    "data = pd.DataFrame({'Date': gray_scatter_x, 'Performance': gray_scatter_y})\n",
    "quarterly_data2 = pd.DataFrame({'Date': red_scatter_x, 'Performance': red_scatter_y})"
   ]
  },
  {
   "cell_type": "code",
   "execution_count": null,
   "metadata": {},
   "outputs": [],
   "source": [
    "# Function to calculate KDE, extract mode, IQR, and max performance\n",
    "def analyze_performance(data, bandwidth=0.3):\n",
    "    kde = gaussian_kde(data['Performance'], bw_method=bandwidth)\n",
    "    performance_range = np.linspace(data['Performance'].min(), data['Performance'].max(), 500)\n",
    "    kde_values = kde(performance_range)\n",
    "    mode = performance_range[np.argmax(kde_values)]\n",
    "    iqr = np.subtract(*np.percentile(data['Performance'], [75, 25]))\n",
    "    max_performance = data['Performance'].max()\n",
    "    return mode, iqr, max_performance\n",
    "\n",
    "# Analyzing each quarter\n",
    "results = []\n",
    "for date in red_scatter_x:\n",
    "    quarter_start = date - pd.offsets.QuarterBegin(startingMonth=1)\n",
    "    quarter_end = date\n",
    "    quarter_data = data[(data['Date'] >= quarter_start) & (data['Date'] <= quarter_end)]\n",
    "    if not quarter_data.empty:\n",
    "        mode, iqr, max_performance = analyze_performance(quarter_data)\n",
    "        results.append({'Date': date, 'Mode': mode, 'IQR': iqr, 'Max': max_performance, 'Max-Mode': max_performance - mode})\n",
    "\n",
    "results_df = pd.DataFrame(results)\n",
    "\n",
    "# Plotting\n",
    "plt.figure(figsize=(12, 8))\n",
    "plt.scatter(data['Date'], data['Performance'], c='gray', s=5, label='Individual Data Points', alpha=0.5)\n",
    "plt.scatter(quarterly_data2['Date'], quarterly_data2['Performance'], c='red', s=50, label='Quarterly Averages', alpha=0.5)\n",
    "plt.plot(results_df['Date'], results_df['Mode'], label='Mode of KDE', color='blue', linewidth=2)\n",
    "plt.fill_between(results_df['Date'], results_df['Mode'] - results_df['IQR'], results_df['Mode'] + results_df['IQR'], color='blue', alpha=0.2, label='IQR')\n",
    "plt.plot(results_df['Date'], results_df['Max-Mode'], label='Max - Mode', color='green', linestyle='--', linewidth=2)\n",
    "plt.xlabel('Time')\n",
    "plt.ylabel('Performance (log10 hashes per joule)')\n",
    "plt.legend()\n",
    "plt.grid(True)\n",
    "plt.show()"
   ]
  },
  {
   "cell_type": "code",
   "execution_count": null,
   "metadata": {},
   "outputs": [],
   "source": [
    "\n",
    "\n",
    "# Plotting the IQR width as a function of time\n",
    "plt.subplot(2, 1, 2)\n",
    "plt.plot(results_df['Date'], results_df['IQR'], label='IQR Width', color='purple', marker='x')\n",
    "plt.xlabel('Time')\n",
    "plt.ylabel('IQR Width')\n",
    "plt.title('IQR Width as a Function of Time')\n",
    "plt.grid(True)\n",
    "plt.legend()\n",
    "\n",
    "plt.tight_layout()\n",
    "plt.show()"
   ]
  }
 ],
 "metadata": {
  "kernelspec": {
   "display_name": "base",
   "language": "python",
   "name": "python3"
  },
  "language_info": {
   "codemirror_mode": {
    "name": "ipython",
    "version": 3
   },
   "file_extension": ".py",
   "mimetype": "text/x-python",
   "name": "python",
   "nbconvert_exporter": "python",
   "pygments_lexer": "ipython3",
   "version": "3.10.13"
  },
  "orig_nbformat": 4,
  "vscode": {
   "interpreter": {
    "hash": "ad2bdc8ecc057115af97d19610ffacc2b4e99fae6737bb82f5d7fb13d2f2c186"
   }
  }
 },
 "nbformat": 4,
 "nbformat_minor": 2
}
