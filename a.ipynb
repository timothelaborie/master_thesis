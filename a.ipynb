{
 "cells": [
  {
   "cell_type": "code",
   "execution_count": 92,
   "metadata": {},
   "outputs": [],
   "source": [
    "import openai\n",
    "def get_openai_response(prompt, tokens = 2000, model=\"gpt-4-1106-preview\"):\n",
    "    if model.__contains__(\"instruct\"):\n",
    "        response = openai.Completion.create(\n",
    "            model=model,\n",
    "            prompt=prompt,\n",
    "            temperature=0,\n",
    "            max_tokens=tokens,\n",
    "            top_p=1,\n",
    "            logit_bias = {\n",
    "                \"198\": -100, # new lines\n",
    "                },\n",
    "            logprobs= 15,\n",
    "        )\n",
    "        text = response.choices[0].text\n",
    "\n",
    "        return text\n",
    "    else:\n",
    "        response = openai.ChatCompletion.create(\n",
    "            model=model,\n",
    "            messages=[\n",
    "                {\n",
    "                    \"role\": \"system\",\n",
    "                    \"content\": \"You are a helpful assistant\"\n",
    "                },\n",
    "                {\n",
    "                    \"role\": \"user\",\n",
    "                    \"content\": prompt\n",
    "                }\n",
    "                ],\n",
    "            temperature=0,\n",
    "            max_tokens=tokens,\n",
    "            top_p=1,\n",
    "        )\n",
    "        text = response.choices[0].message.content\n",
    "\n",
    "\n",
    "        # print(\"returning ai text:\", text)\n",
    "        return text"
   ]
  },
  {
   "cell_type": "code",
   "execution_count": 93,
   "metadata": {},
   "outputs": [],
   "source": [
    "prompt = '''\n",
    "What do you know about google's imagen model?\n",
    "'''.strip()"
   ]
  },
  {
   "cell_type": "code",
   "execution_count": 94,
   "metadata": {},
   "outputs": [
    {
     "name": "stdout",
     "output_type": "stream",
     "text": [
      "What do you know about google's imagen model?\n"
     ]
    }
   ],
   "source": [
    "print(prompt)"
   ]
  },
  {
   "cell_type": "code",
   "execution_count": 95,
   "metadata": {},
   "outputs": [
    {
     "name": "stdout",
     "output_type": "stream",
     "text": [
      "As of my last update in early 2023, Google's Imagen model is a text-to-image diffusion model developed by Google Research. It is designed to generate photorealistic images from textual descriptions, competing with other models in the field such as OpenAI's DALL-E and DALL-E 2, and Stability AI's Stable Diffusion.\n",
      "\n",
      "Imagen uses a two-step process to create images from text descriptions:\n",
      "\n",
      "1. Text-to-Image Diffusion: The model first converts text descriptions into a series of images through a diffusion process. This process starts with a random pattern of pixels and gradually refines it into a coherent image that matches the text description.\n",
      "\n",
      "2. Super-Resolution: After generating a low-resolution image, Imagen applies a super-resolution model to enhance the details and quality of the image, producing high-resolution results.\n",
      "\n",
      "Key features of the Imagen model include:\n",
      "\n",
      "- High Fidelity: Imagen is designed to produce high-quality images that are often indistinguishable from photographs, with accurate details that closely match the text description.\n",
      "- Attention to Text: The model is trained to pay close attention to the text input, allowing it to generate images that are relevant and specific to the provided descriptions.\n",
      "- Large-Scale Training: Like other models in its category, Imagen is trained on a large dataset of text-image pairs, enabling it to learn a wide range of styles, concepts, and compositions.\n",
      "\n",
      "Google's Imagen model has demonstrated impressive capabilities in generating images across various themes and styles. However, as with any AI model, there are ethical considerations and potential for misuse, such as generating misleading images or infringing on intellectual property. Google has acknowledged these concerns and has taken steps to mitigate risks, including restricting access to the model and implementing content filters.\n",
      "\n",
      "It's important to note that the field of AI and text-to-image models is rapidly evolving, and new developments may have emerged since my last update. Always refer to the latest information from Google Research or other reliable sources for the most current details on Imagen and similar AI models.\n"
     ]
    }
   ],
   "source": [
    "response = get_openai_response(prompt)\n",
    "print(response)"
   ]
  },
  {
   "cell_type": "code",
   "execution_count": 96,
   "metadata": {},
   "outputs": [
    {
     "data": {
      "text/plain": [
       "2163"
      ]
     },
     "execution_count": 96,
     "metadata": {},
     "output_type": "execute_result"
    }
   ],
   "source": [
    "len(response)"
   ]
  },
  {
   "cell_type": "code",
   "execution_count": 106,
   "metadata": {},
   "outputs": [
    {
     "name": "stdout",
     "output_type": "stream",
     "text": [
      "{'id': 'chatcmpl-8IArCwQ9DSdDzO9ERuNGFkiHXkbHf', 'object': 'chat.completion', 'created': 1699342330, 'model': 'gpt-4-1106-vision-preview', 'usage': {'prompt_tokens': 438, 'completion_tokens': 135, 'total_tokens': 573}, 'choices': [{'message': {'role': 'assistant', 'content': \"This image is a screenshot from the video game Minecraft. It shows a scene from the Nether, which is one of the dimensions in the game. The Nether is known for its hell-like landscape, with large areas of lava, fire, and unique terrain features. In the image, you can see a large lava fall, Netherrack (the reddish-brown blocks that make up most of the Nether's terrain), and a couple of Endermen, which are tall, black neutral mobs that teleport and pick up blocks. The player's hand is visible on the right side, holding an item, which indicates that this is a first-person perspective.\"}, 'finish_details': {'type': 'stop', 'stop': '<|fim_suffix|>'}, 'index': 0}]}\n"
     ]
    }
   ],
   "source": [
    "import base64\n",
    "import requests\n",
    "import os\n",
    "\n",
    "# OpenAI API Key\n",
    "api_key = os.environ.get(\"OPENAI_API_KEY\")\n",
    "\n",
    "# Function to encode the image\n",
    "def encode_image(image_path):\n",
    "    with open(image_path, \"rb\") as image_file:\n",
    "        return base64.b64encode(image_file.read()).decode('utf-8')\n",
    "\n",
    "# Path to your image\n",
    "image_path = \"C:/Users/Timothe/Pictures/chunks.PNG\"\n",
    "\n",
    "# Getting the base64 string\n",
    "base64_image = encode_image(image_path)\n",
    "\n",
    "headers = {\n",
    "    \"Content-Type\": \"application/json\",\n",
    "    \"Authorization\": f\"Bearer {api_key}\"\n",
    "}\n",
    "\n",
    "payload = {\n",
    "    \"model\": \"gpt-4-vision-preview\",\n",
    "    \"messages\": [\n",
    "      {\n",
    "        \"role\": \"user\",\n",
    "        \"content\": [\n",
    "          {\n",
    "            \"type\": \"text\",\n",
    "            \"text\": \"What is in this image?\"\n",
    "          },\n",
    "          {\n",
    "            \"type\": \"image_url\",\n",
    "            \"image_url\": {\n",
    "              \"url\": f\"data:image/jpeg;base64,{base64_image}\"\n",
    "            }\n",
    "          }\n",
    "        ]\n",
    "      }\n",
    "    ],\n",
    "    \"max_tokens\": 3000,\n",
    "    \"temperature\": 0,\n",
    "}\n",
    "\n",
    "response = requests.post(\"https://api.openai.com/v1/chat/completions\", headers=headers, json=payload)\n",
    "\n",
    "print(response.json())"
   ]
  }
 ],
 "metadata": {
  "kernelspec": {
   "display_name": "base",
   "language": "python",
   "name": "python3"
  },
  "language_info": {
   "codemirror_mode": {
    "name": "ipython",
    "version": 3
   },
   "file_extension": ".py",
   "mimetype": "text/x-python",
   "name": "python",
   "nbconvert_exporter": "python",
   "pygments_lexer": "ipython3",
   "version": "3.9.7"
  },
  "orig_nbformat": 4,
  "vscode": {
   "interpreter": {
    "hash": "ad2bdc8ecc057115af97d19610ffacc2b4e99fae6737bb82f5d7fb13d2f2c186"
   }
  }
 },
 "nbformat": 4,
 "nbformat_minor": 2
}
