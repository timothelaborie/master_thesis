{
 "cells": [
  {
   "cell_type": "code",
   "execution_count": null,
   "metadata": {},
   "outputs": [],
   "source": [
    "import pandas as pd\n",
    "import os\n",
    "import gzip\n",
    "import pickle\n",
    "import openai\n",
    "import re\n",
    "import copy"
   ]
  },
  {
   "cell_type": "code",
   "execution_count": null,
   "metadata": {},
   "outputs": [],
   "source": [
    "with open('hardware.txt', 'r') as file:\n",
    "    hardware_txt = file.read()\n",
    "\n",
    "# [x.split(';') for x in hardware_txt.split('\\n')]\n",
    "stuff = []\n",
    "for x in hardware_txt.split('\\n'):\n",
    "    if len(x.split(';')) == 4:\n",
    "        print(\"error\")\n",
    "        print(x)\n",
    "    stuff.append(x.split(';'))\n",
    "\n",
    "hardware_df = pd.DataFrame(stuff, columns=['hardware_name', 'hashrate', 'efficiency'])\n",
    "\n",
    "\n",
    "#remove rows that contain x2,x3 etc\n",
    "hardware_df = hardware_df[~hardware_df['hardware_name'].str.contains(\"x[0-9]\")]\n",
    "hardware_df = hardware_df[~hardware_df['hardware_name'].str.contains(\"cards\")]\n",
    "\n",
    "#remove text in brackets from hardware_name\n",
    "hardware_df['hardware_name'] = hardware_df['hardware_name'].apply(lambda x: re.sub(r\"\\(.*\\)\",\"\", x).strip())\n",
    "hardware_df['hardware_name'] = hardware_df['hardware_name'].apply(lambda x: re.sub(r\"OC\",\"\", x).strip())\n",
    "hardware_df['hardware_name'] = hardware_df['hardware_name'].apply(lambda x: re.sub(r\"\\d+ *Gh/s\",\"\", x).strip())\n",
    "hardware_df['hardware_name'] = hardware_df['hardware_name'].apply(lambda x: re.sub(r\"\\d+ *GH/S\",\"\", x).strip())\n",
    "hardware_df['hardware_name'] = hardware_df['hardware_name'].apply(lambda x: re.sub(r\"\\d+ *GH/s\",\"\", x).strip())\n",
    "\n",
    "#remove duplicate hardware names\n",
    "hardware_df = hardware_df.drop_duplicates(subset=['hardware_name'])\n",
    "\n",
    "#reset index\n",
    "hardware_df = hardware_df.reset_index(drop=True)\n",
    "hardware_df[\"hardware_index\"] = hardware_df.index\n",
    "hardware_df.to_csv('hardware_bitcoinwiki.csv', index=False)\n",
    "\n",
    "# save it as a csv with columns \"index,hardware_name\"\n",
    "hardware_df = hardware_df[['hardware_index', 'hardware_name']]\n",
    "# hardware_df.to_csv('hardware_index.csv', index=False)"
   ]
  },
  {
   "cell_type": "code",
   "execution_count": null,
   "metadata": {},
   "outputs": [],
   "source": [
    "with open('hardware_new.txt', 'r') as file:\n",
    "    hardware_txt = file.read()\n",
    "\n",
    "hardware_df = pd.DataFrame([x.split(';') for x in hardware_txt.split('\\n')], columns=['hardware_name', 'date', 'speed','power','noise','hash','profit'])\n",
    "\n",
    "# keep only SHA-256\n",
    "hardware_df = hardware_df[hardware_df['hash'] == \"SHA-256\"]\n",
    "\n",
    "# efficiency = speed/power\n",
    "hardware_df['Mhash/J'] = hardware_df['speed'].str.replace(\"Th/s\",\"\").astype(float)/hardware_df['power'].str.replace(\"W\",\"\").astype(float) * 1000000\n",
    "\n",
    "#remove text in brackets from hardware_name\n",
    "hardware_df['hardware_name'] = hardware_df['hardware_name'].apply(lambda x: re.sub(r\"\\(.*\\)\",\"\", x).strip())\n",
    "hardware_df['hardware_name'] = hardware_df['hardware_name'].apply(lambda x: re.sub(r\"OC\",\"\", x).strip())\n",
    "hardware_df['hardware_name'] = hardware_df['hardware_name'].apply(lambda x: re.sub(r\"\\d+ *Th/s\",\"\", x).strip())\n",
    "\n",
    "# rename date to hardware_release_date\n",
    "hardware_df = hardware_df.rename(columns={\"date\": \"hardware_release_date\"})\n",
    "\n",
    "#reset index\n",
    "hardware_df = hardware_df.reset_index(drop=True)\n",
    "hardware_df[\"hardware_index\"] = hardware_df.index\n",
    "hardware_df.to_csv('hardware_asicminervalue.csv', index=False)\n",
    "\n",
    "with_date = hardware_df[['hardware_index', 'hardware_name', 'hardware_release_date']]\n",
    "with_date.to_csv('asicminervalue_with_date.csv', index=False)\n",
    "\n",
    "# save it as a csv with columns \"index,hardware_name\"\n",
    "hardware_df = hardware_df[['hardware_index', 'hardware_name']]"
   ]
  }
 ],
 "metadata": {
  "kernelspec": {
   "display_name": "base",
   "language": "python",
   "name": "python3"
  },
  "language_info": {
   "codemirror_mode": {
    "name": "ipython",
    "version": 3
   },
   "file_extension": ".py",
   "mimetype": "text/x-python",
   "name": "python",
   "nbconvert_exporter": "python",
   "pygments_lexer": "ipython3",
   "version": "3.10.13"
  },
  "orig_nbformat": 4,
  "vscode": {
   "interpreter": {
    "hash": "ad2bdc8ecc057115af97d19610ffacc2b4e99fae6737bb82f5d7fb13d2f2c186"
   }
  }
 },
 "nbformat": 4,
 "nbformat_minor": 2
}
