{
 "cells": [
  {
   "cell_type": "code",
   "execution_count": null,
   "metadata": {},
   "outputs": [],
   "source": [
    "import pandas as pd\n",
    "import os\n",
    "import gzip\n",
    "import pickle\n",
    "import openai\n",
    "import re\n",
    "import copy"
   ]
  },
  {
   "cell_type": "code",
   "execution_count": null,
   "metadata": {},
   "outputs": [],
   "source": [
    "old = pd.read_csv('hardware_bitcoinwiki.csv') #hardware_name,hashrate,efficiency,hardware_index\n",
    "new = pd.read_csv('hardware_asicminervalue.csv') #hardware_name,hardware_release_date,speed,power,noise,hash,profit,Mhash/J,hardware_index\n",
    "\n",
    "# rename columns\n",
    "old = old.rename(columns={\"hashrate\": \"speed\", \"efficiency\": \"Mhash/J\"})\n",
    "\n",
    "old = old[['hardware_name', \"Mhash/J\"]]\n",
    "new = new[['hardware_name', \"Mhash/J\"]]\n",
    "\n",
    "# merge the two hardware csvs\n",
    "hardware_df = pd.concat([old, new]).reset_index(drop=True)\n",
    "\n",
    "# remove rows with \"unknown\" Mhash/J\n",
    "hardware_df = hardware_df[hardware_df['Mhash/J'] != \"unknown\"]\n",
    "\n",
    "# make all names lowercase\n",
    "hardware_df['hardware_name'] = hardware_df['hardware_name'].str.lower()\n",
    "\n",
    "# remove duplicate hardware names\n",
    "hardware_df = hardware_df.drop_duplicates(subset=['hardware_name'])\n",
    "\n",
    "# sort by hardware_name\n",
    "hardware_df = hardware_df.sort_values(by=['hardware_name'])\n"
   ]
  },
  {
   "cell_type": "code",
   "execution_count": null,
   "metadata": {},
   "outputs": [],
   "source": [
    "hardware_df"
   ]
  },
  {
   "cell_type": "code",
   "execution_count": null,
   "metadata": {},
   "outputs": [],
   "source": [
    "hardware_df.to_csv('hardware_merged.csv', index=False)"
   ]
  }
 ],
 "metadata": {
  "kernelspec": {
   "display_name": "base",
   "language": "python",
   "name": "python3"
  },
  "language_info": {
   "codemirror_mode": {
    "name": "ipython",
    "version": 3
   },
   "file_extension": ".py",
   "mimetype": "text/x-python",
   "name": "python",
   "nbconvert_exporter": "python",
   "pygments_lexer": "ipython3",
   "version": "3.10.13"
  },
  "orig_nbformat": 4,
  "vscode": {
   "interpreter": {
    "hash": "ad2bdc8ecc057115af97d19610ffacc2b4e99fae6737bb82f5d7fb13d2f2c186"
   }
  }
 },
 "nbformat": 4,
 "nbformat_minor": 2
}
